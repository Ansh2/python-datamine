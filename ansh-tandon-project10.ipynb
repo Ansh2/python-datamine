{
 "cells": [
  {
   "cell_type": "markdown",
   "id": "be02a957-7133-4d02-818e-fedeb3cecb05",
   "metadata": {},
   "source": [
    "# Project 10 -- Ansh Tandon"
   ]
  },
  {
   "cell_type": "markdown",
   "id": "a1228853-dd19-4ab2-89e0-0394d7d72de3",
   "metadata": {},
   "source": [
    "**TA Help:** John Smith, Alice Jones\n",
    "\n",
    "- Help with figuring out how to write a function.\n",
    "    \n",
    "**Collaboration:** Friend1, Friend2\n",
    "    \n",
    "- Helped figuring out how to load the dataset.\n",
    "- Helped debug error with my plot."
   ]
  },
  {
   "cell_type": "markdown",
   "id": "6180e742-8e39-4698-98ff-5b00c8cf8ea0",
   "metadata": {},
   "source": [
    "## Question 1"
   ]
  },
  {
   "cell_type": "code",
   "execution_count": 1,
   "id": "49445606-d363-41b4-b479-e319a9a84c01",
   "metadata": {},
   "outputs": [],
   "source": [
    "import pandas as pd"
   ]
  },
  {
   "cell_type": "code",
   "execution_count": 2,
   "id": "b18e69f7-d342-4479-af2c-5a546b4de81d",
   "metadata": {},
   "outputs": [],
   "source": [
    "pd.set_option(\"display.max_column\", None)"
   ]
  },
  {
   "cell_type": "code",
   "execution_count": 3,
   "id": "9dd6c053-8a40-47f7-9d80-b4663ec43b04",
   "metadata": {},
   "outputs": [],
   "source": [
    "cols = [\n",
    "    'DepDelay', 'ArrDelay', 'Distance',\n",
    "    'CarrierDelay', 'WeatherDelay',\n",
    "    'DepTime', 'ArrTime', 'Diverted', 'AirTime'\n",
    "]\n",
    "\n",
    "col_types = {\n",
    "    'DepDelay': 'float64',\n",
    "    'ArrDelay': 'float64',\n",
    "    'Distance': 'float64',\n",
    "    'CarrierDelay': 'float64',\n",
    "    'WeatherDelay': 'float64',\n",
    "    'DepTime': 'float64',\n",
    "    'ArrTime': 'float64',\n",
    "    'Diverted': 'int64',\n",
    "    'AirTime': 'float64'\n",
    "}"
   ]
  },
  {
   "cell_type": "code",
   "execution_count": 4,
   "id": "05c0d181-5395-40b8-bf1b-45c4de9de64b",
   "metadata": {},
   "outputs": [],
   "source": [
    "myDF = pd.read_csv(\"/anvil/projects/tdm/data/flights/2014.csv\", usecols=cols, dtype=col_types)"
   ]
  },
  {
   "cell_type": "code",
   "execution_count": 5,
   "id": "ba7fc414-f0a8-437e-b29d-39dc09c40aa7",
   "metadata": {},
   "outputs": [
    {
     "data": {
      "text/html": [
       "<div>\n",
       "<style scoped>\n",
       "    .dataframe tbody tr th:only-of-type {\n",
       "        vertical-align: middle;\n",
       "    }\n",
       "\n",
       "    .dataframe tbody tr th {\n",
       "        vertical-align: top;\n",
       "    }\n",
       "\n",
       "    .dataframe thead th {\n",
       "        text-align: right;\n",
       "    }\n",
       "</style>\n",
       "<table border=\"1\" class=\"dataframe\">\n",
       "  <thead>\n",
       "    <tr style=\"text-align: right;\">\n",
       "      <th></th>\n",
       "      <th>DepTime</th>\n",
       "      <th>DepDelay</th>\n",
       "      <th>ArrTime</th>\n",
       "      <th>ArrDelay</th>\n",
       "      <th>Diverted</th>\n",
       "      <th>AirTime</th>\n",
       "      <th>Distance</th>\n",
       "      <th>CarrierDelay</th>\n",
       "      <th>WeatherDelay</th>\n",
       "    </tr>\n",
       "  </thead>\n",
       "  <tbody>\n",
       "    <tr>\n",
       "      <th>0</th>\n",
       "      <td>935.0</td>\n",
       "      <td>-5.0</td>\n",
       "      <td>1051.0</td>\n",
       "      <td>-4.0</td>\n",
       "      <td>0</td>\n",
       "      <td>56.0</td>\n",
       "      <td>328.0</td>\n",
       "      <td>NaN</td>\n",
       "      <td>NaN</td>\n",
       "    </tr>\n",
       "    <tr>\n",
       "      <th>1</th>\n",
       "      <td>951.0</td>\n",
       "      <td>11.0</td>\n",
       "      <td>1115.0</td>\n",
       "      <td>20.0</td>\n",
       "      <td>0</td>\n",
       "      <td>54.0</td>\n",
       "      <td>328.0</td>\n",
       "      <td>11.0</td>\n",
       "      <td>0.0</td>\n",
       "    </tr>\n",
       "    <tr>\n",
       "      <th>2</th>\n",
       "      <td>1144.0</td>\n",
       "      <td>9.0</td>\n",
       "      <td>1302.0</td>\n",
       "      <td>2.0</td>\n",
       "      <td>0</td>\n",
       "      <td>57.0</td>\n",
       "      <td>328.0</td>\n",
       "      <td>NaN</td>\n",
       "      <td>NaN</td>\n",
       "    </tr>\n",
       "    <tr>\n",
       "      <th>3</th>\n",
       "      <td>1134.0</td>\n",
       "      <td>-1.0</td>\n",
       "      <td>1253.0</td>\n",
       "      <td>-7.0</td>\n",
       "      <td>0</td>\n",
       "      <td>53.0</td>\n",
       "      <td>328.0</td>\n",
       "      <td>NaN</td>\n",
       "      <td>NaN</td>\n",
       "    </tr>\n",
       "    <tr>\n",
       "      <th>4</th>\n",
       "      <td>1129.0</td>\n",
       "      <td>-6.0</td>\n",
       "      <td>1244.0</td>\n",
       "      <td>-16.0</td>\n",
       "      <td>0</td>\n",
       "      <td>52.0</td>\n",
       "      <td>328.0</td>\n",
       "      <td>NaN</td>\n",
       "      <td>NaN</td>\n",
       "    </tr>\n",
       "  </tbody>\n",
       "</table>\n",
       "</div>"
      ],
      "text/plain": [
       "   DepTime  DepDelay  ArrTime  ArrDelay  Diverted  AirTime  Distance  \\\n",
       "0    935.0      -5.0   1051.0      -4.0         0     56.0     328.0   \n",
       "1    951.0      11.0   1115.0      20.0         0     54.0     328.0   \n",
       "2   1144.0       9.0   1302.0       2.0         0     57.0     328.0   \n",
       "3   1134.0      -1.0   1253.0      -7.0         0     53.0     328.0   \n",
       "4   1129.0      -6.0   1244.0     -16.0         0     52.0     328.0   \n",
       "\n",
       "   CarrierDelay  WeatherDelay  \n",
       "0           NaN           NaN  \n",
       "1          11.0           0.0  \n",
       "2           NaN           NaN  \n",
       "3           NaN           NaN  \n",
       "4           NaN           NaN  "
      ]
     },
     "execution_count": 5,
     "metadata": {},
     "output_type": "execute_result"
    }
   ],
   "source": [
    "myDF.head()"
   ]
  },
  {
   "cell_type": "markdown",
   "id": "b456e57c-4a12-464b-999a-ef2df5af80c1",
   "metadata": {},
   "source": [
    "Markdown notes and sentences and analysis written here."
   ]
  },
  {
   "cell_type": "markdown",
   "id": "fc601975-35ed-4680-a4e1-0273ee3cc047",
   "metadata": {},
   "source": [
    "## Question 2"
   ]
  },
  {
   "cell_type": "code",
   "execution_count": 6,
   "id": "a16336a1-1ef0-41e8-bc7c-49387db27497",
   "metadata": {},
   "outputs": [
    {
     "data": {
      "text/plain": [
       "DepDelay\n",
       "-251.0     1\n",
       "-112.0     1\n",
       "-85.0      1\n",
       "-58.0      1\n",
       "-57.0      1\n",
       "          ..\n",
       " 1772.0    1\n",
       " 1805.0    1\n",
       " 1937.0    1\n",
       " 2032.0    1\n",
       " 2402.0    1\n",
       "Name: count, Length: 1193, dtype: int64"
      ]
     },
     "execution_count": 6,
     "metadata": {},
     "output_type": "execute_result"
    }
   ],
   "source": [
    "myDF.groupby('DepDelay')['DepDelay'].value_counts()"
   ]
  },
  {
   "cell_type": "code",
   "execution_count": 7,
   "id": "4b336b2a-de22-482b-9bdb-44bb3420d985",
   "metadata": {},
   "outputs": [],
   "source": [
    "import numpy as np"
   ]
  },
  {
   "cell_type": "code",
   "execution_count": 8,
   "id": "68ccbe9c-b5b3-4e65-98a2-141c1fd4aba9",
   "metadata": {},
   "outputs": [],
   "source": [
    "my_depdelay_values = myDF['DepDelay'].to_numpy()"
   ]
  },
  {
   "cell_type": "code",
   "execution_count": 9,
   "id": "11980c63-53fc-4808-9e51-b75854c8d6cd",
   "metadata": {},
   "outputs": [
    {
     "name": "stdout",
     "output_type": "stream",
     "text": [
      "the shape of the numpy array is:  (5819811,) and the type is:  float64\n"
     ]
    }
   ],
   "source": [
    "print(\"the shape of the numpy array is: \", my_depdelay_values.shape, \"and the type is: \", my_depdelay_values.dtype)"
   ]
  },
  {
   "cell_type": "code",
   "execution_count": 10,
   "id": "faf062ee-10bc-4358-9e2c-9da3790def36",
   "metadata": {},
   "outputs": [],
   "source": [
    "my_cleaned_depdelay_values = np.nan_to_num(my_depdelay_values, nan=0)"
   ]
  },
  {
   "cell_type": "code",
   "execution_count": 11,
   "id": "515f5e8d-926a-4151-9038-fe396073844f",
   "metadata": {},
   "outputs": [],
   "source": [
    "my_larger_cleaned_depdelay_values = my_cleaned_depdelay_values + 15"
   ]
  },
  {
   "cell_type": "code",
   "execution_count": 12,
   "id": "23a43f01-6ab6-461f-acdc-d09e45c80f1c",
   "metadata": {},
   "outputs": [
    {
     "name": "stdout",
     "output_type": "stream",
     "text": [
      "The average Departure Delay before adding 15 minutes is: ....... 10.417677824932802\n"
     ]
    }
   ],
   "source": [
    "print(\"The average Departure Delay before adding 15 minutes is: .......\", np.mean(my_cleaned_depdelay_values))"
   ]
  },
  {
   "cell_type": "code",
   "execution_count": 13,
   "id": "f456f07a-6c5f-4ee9-8816-0ba00548e230",
   "metadata": {},
   "outputs": [
    {
     "name": "stdout",
     "output_type": "stream",
     "text": [
      "The average Departure Delay after adding 15 minutes is: ....... 25.417677824932802\n"
     ]
    }
   ],
   "source": [
    "print(\"The average Departure Delay after adding 15 minutes is: .......\", np.mean(my_larger_cleaned_depdelay_values))"
   ]
  },
  {
   "cell_type": "code",
   "execution_count": null,
   "id": "99490c54-f96a-415c-97b1-327c3f273bfa",
   "metadata": {},
   "outputs": [],
   "source": []
  },
  {
   "cell_type": "markdown",
   "id": "14dc22d4-ddc3-41cc-a91a-cb0025bc0c80",
   "metadata": {},
   "source": [
    "2d: These two values compare as the difference between both of their averages before and adding is 15."
   ]
  },
  {
   "cell_type": "markdown",
   "id": "8e586edd-ff26-4ce2-8f6b-2424b26f2929",
   "metadata": {},
   "source": [
    "## Question 3"
   ]
  },
  {
   "cell_type": "code",
   "execution_count": 17,
   "id": "bbe0f40d-9655-4653-9ca8-886bdb61cb91",
   "metadata": {},
   "outputs": [
    {
     "name": "stdout",
     "output_type": "stream",
     "text": [
      "Max Arrival Delay: ...... minutes  2402.0\n"
     ]
    }
   ],
   "source": [
    "print(\"Max Arrival Delay: ...... minutes \", np.max(my_cleaned_depdelay_values))"
   ]
  },
  {
   "cell_type": "code",
   "execution_count": 19,
   "id": "ac22526d-19fa-425d-93ac-78092eddfa03",
   "metadata": {},
   "outputs": [
    {
     "name": "stdout",
     "output_type": "stream",
     "text": [
      "Max Arrival Delay: ...... minutes  -251.0\n"
     ]
    }
   ],
   "source": [
    "print(\"Max Arrival Delay: ...... minutes \", np.min(my_cleaned_depdelay_values))"
   ]
  },
  {
   "cell_type": "markdown",
   "id": "47c6229f-35f7-400c-8366-c442baa5cf47",
   "metadata": {},
   "source": [
    "Markdown notes and sentences and analysis written here."
   ]
  },
  {
   "cell_type": "markdown",
   "id": "da22f29c-d245-4d2b-9fc1-ca14cb6087d9",
   "metadata": {},
   "source": [
    "## Question 4"
   ]
  },
  {
   "cell_type": "code",
   "execution_count": 21,
   "id": "8cffc767-d1c8-4d64-b7dc-f0d2ee8a80d1",
   "metadata": {},
   "outputs": [],
   "source": [
    "import time"
   ]
  },
  {
   "cell_type": "code",
   "execution_count": 22,
   "id": "dacd9041-eb02-4d8a-bdfd-14a1b99df2b7",
   "metadata": {},
   "outputs": [
    {
     "name": "stdout",
     "output_type": "stream",
     "text": [
      "The average overall distances for the delayed flights is 793.1002773092284\n",
      "Used time is 0.056818485260009766\n"
     ]
    }
   ],
   "source": [
    "start_time = time.time()\n",
    "\n",
    "delayed_flights = myDF[(myDF['DepDelay'] > 60) | (myDF['ArrDelay'] > 60)]\n",
    "\n",
    "my_average_delayed_flights = delayed_flights['Distance'].mean()\n",
    "\n",
    "print(f\"The average overall distances for the delayed flights is {my_average_delayed_flights}\")\n",
    "\n",
    "end_time = time.time()\n",
    "print(f\"Used time is {end_time - start_time}\")"
   ]
  },
  {
   "cell_type": "code",
   "execution_count": null,
   "id": "6450c247-ec04-4b89-a5ed-127187b9f413",
   "metadata": {},
   "outputs": [],
   "source": []
  },
  {
   "cell_type": "markdown",
   "id": "0d552245-b4d6-474a-9cc9-fa7b8e674d55",
   "metadata": {},
   "source": [
    "Markdown notes and sentences and analysis written here."
   ]
  },
  {
   "cell_type": "markdown",
   "id": "88c9cdac-3e92-498f-83fa-e089bfc44ac8",
   "metadata": {},
   "source": [
    "## Question 5"
   ]
  },
  {
   "cell_type": "code",
   "execution_count": 23,
   "id": "d370d7c9-06db-42b9-b75f-240481a5c491",
   "metadata": {},
   "outputs": [
    {
     "name": "stdout",
     "output_type": "stream",
     "text": [
      "The average overall distances for the delayed flights is 793.1002773092284\n",
      "Used time is 0.013944625854492188\n"
     ]
    }
   ],
   "source": [
    "start_time = time.time()\n",
    "\n",
    "mydeparray = myDF['DepDelay'].to_numpy()\n",
    "myarrarray = myDF['ArrDelay'].to_numpy()\n",
    "mydistancearray = myDF['Distance'].to_numpy()\n",
    "\n",
    "my_filtered_average_distances = mydistancearray[(mydeparray > 60) | (myarrarray > 60)]\n",
    "\n",
    "my_average_delayed_flights = np.mean(my_filtered_average_distances)\n",
    "\n",
    "print(f\"The average overall distances for the delayed flights is {my_average_delayed_flights}\")\n",
    "\n",
    "end_time = time.time()\n",
    "print(f\"Used time is {end_time - start_time}\")"
   ]
  },
  {
   "cell_type": "code",
   "execution_count": null,
   "id": "8cef8b80-cd65-4ed8-bd3c-b2b71b58ed8d",
   "metadata": {},
   "outputs": [],
   "source": []
  },
  {
   "cell_type": "markdown",
   "id": "9fbf00fb-2418-460f-ae94-2a32b0c28952",
   "metadata": {},
   "source": [
    "Question 5:\n",
    "One aspect that I have noticed about numpy vs pandas is that numpy is able to compute different operations like average at a much faster rate than pandas does. With the data set being smaller in this case, for numpy, that creates the computational advantage for numpy. However, as I've done many assignments in the past, I've used pandas for larger data sets and that mainly highlights why one would use pandas, particularly in applications like dealing with bigger structured data."
   ]
  },
  {
   "cell_type": "markdown",
   "id": "f76442d6-d02e-4f26-b9d6-c3183e1d6929",
   "metadata": {},
   "source": [
    "## Pledge\n",
    "\n",
    "By submitting this work I hereby pledge that this is my own, personal work. I've acknowledged in the designated place at the top of this file all sources that I used to complete said work, including but not limited to: online resources, books, and electronic communications. I've noted all collaboration with fellow students and/or TA's. I did not copy or plagiarize another's work.\n",
    "\n",
    "> As a Boilermaker pursuing academic excellence, I pledge to be honest and true in all that I do. Accountable together – We are Purdue."
   ]
  }
 ],
 "metadata": {
  "kernelspec": {
   "display_name": "seminar",
   "language": "python",
   "name": "seminar"
  },
  "language_info": {
   "codemirror_mode": {
    "name": "ipython",
    "version": 3
   },
   "file_extension": ".py",
   "mimetype": "text/x-python",
   "name": "python",
   "nbconvert_exporter": "python",
   "pygments_lexer": "ipython3",
   "version": "3.11.5"
  }
 },
 "nbformat": 4,
 "nbformat_minor": 5
}
