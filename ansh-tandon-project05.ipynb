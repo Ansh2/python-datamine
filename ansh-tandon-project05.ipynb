{
 "cells": [
  {
   "cell_type": "markdown",
   "id": "be02a957-7133-4d02-818e-fedeb3cecb05",
   "metadata": {},
   "source": [
    "# Project 05 -- Ansh Tandon"
   ]
  },
  {
   "cell_type": "markdown",
   "id": "a1228853-dd19-4ab2-89e0-0394d7d72de3",
   "metadata": {},
   "source": [
    "**TA Help:** John Smith, Alice Jones\n",
    "\n",
    "- Help with figuring out how to write a function.\n",
    "    \n",
    "**Collaboration:** Friend1, Friend2\n",
    "    \n",
    "- Helped figuring out how to load the dataset.\n",
    "- Helped debug error with my plot."
   ]
  },
  {
   "cell_type": "markdown",
   "id": "6180e742-8e39-4698-98ff-5b00c8cf8ea0",
   "metadata": {},
   "source": [
    "## Question 1"
   ]
  },
  {
   "cell_type": "code",
   "execution_count": 1,
   "id": "49445606-d363-41b4-b479-e319a9a84c01",
   "metadata": {},
   "outputs": [],
   "source": [
    "import pandas as pd"
   ]
  },
  {
   "cell_type": "code",
   "execution_count": 2,
   "id": "fa3be327-bdc4-4a1e-af5c-590580779c80",
   "metadata": {},
   "outputs": [],
   "source": [
    "myDF = pd.read_csv(\"/anvil/projects/tdm/data/noaa/1880.csv\" , header=None, names=[\"id\",\"date\",\"element_code\",\"value\",\"mflag\",\"qflag\",\"sflag\",\"obstime\"])"
   ]
  },
  {
   "cell_type": "code",
   "execution_count": 3,
   "id": "4f6f8edb-ceb5-4d25-8976-52a5ea2e9893",
   "metadata": {},
   "outputs": [
    {
     "data": {
      "text/html": [
       "<div>\n",
       "<style scoped>\n",
       "    .dataframe tbody tr th:only-of-type {\n",
       "        vertical-align: middle;\n",
       "    }\n",
       "\n",
       "    .dataframe tbody tr th {\n",
       "        vertical-align: top;\n",
       "    }\n",
       "\n",
       "    .dataframe thead th {\n",
       "        text-align: right;\n",
       "    }\n",
       "</style>\n",
       "<table border=\"1\" class=\"dataframe\">\n",
       "  <thead>\n",
       "    <tr style=\"text-align: right;\">\n",
       "      <th></th>\n",
       "      <th>id</th>\n",
       "      <th>date</th>\n",
       "      <th>element_code</th>\n",
       "      <th>value</th>\n",
       "      <th>mflag</th>\n",
       "      <th>qflag</th>\n",
       "      <th>sflag</th>\n",
       "      <th>obstime</th>\n",
       "    </tr>\n",
       "  </thead>\n",
       "  <tbody>\n",
       "    <tr>\n",
       "      <th>0</th>\n",
       "      <td>AGE00147705</td>\n",
       "      <td>18800101</td>\n",
       "      <td>PRCP</td>\n",
       "      <td>0</td>\n",
       "      <td>NaN</td>\n",
       "      <td>NaN</td>\n",
       "      <td>E</td>\n",
       "      <td>NaN</td>\n",
       "    </tr>\n",
       "    <tr>\n",
       "      <th>1</th>\n",
       "      <td>AGE00147708</td>\n",
       "      <td>18800101</td>\n",
       "      <td>PRCP</td>\n",
       "      <td>36</td>\n",
       "      <td>NaN</td>\n",
       "      <td>NaN</td>\n",
       "      <td>E</td>\n",
       "      <td>NaN</td>\n",
       "    </tr>\n",
       "    <tr>\n",
       "      <th>2</th>\n",
       "      <td>AGE00147709</td>\n",
       "      <td>18800101</td>\n",
       "      <td>PRCP</td>\n",
       "      <td>36</td>\n",
       "      <td>NaN</td>\n",
       "      <td>NaN</td>\n",
       "      <td>E</td>\n",
       "      <td>NaN</td>\n",
       "    </tr>\n",
       "    <tr>\n",
       "      <th>3</th>\n",
       "      <td>AGE00147712</td>\n",
       "      <td>18800101</td>\n",
       "      <td>PRCP</td>\n",
       "      <td>0</td>\n",
       "      <td>NaN</td>\n",
       "      <td>NaN</td>\n",
       "      <td>E</td>\n",
       "      <td>NaN</td>\n",
       "    </tr>\n",
       "    <tr>\n",
       "      <th>4</th>\n",
       "      <td>AGE00147713</td>\n",
       "      <td>18800101</td>\n",
       "      <td>TMAX</td>\n",
       "      <td>52</td>\n",
       "      <td>NaN</td>\n",
       "      <td>NaN</td>\n",
       "      <td>E</td>\n",
       "      <td>NaN</td>\n",
       "    </tr>\n",
       "    <tr>\n",
       "      <th>...</th>\n",
       "      <td>...</td>\n",
       "      <td>...</td>\n",
       "      <td>...</td>\n",
       "      <td>...</td>\n",
       "      <td>...</td>\n",
       "      <td>...</td>\n",
       "      <td>...</td>\n",
       "      <td>...</td>\n",
       "    </tr>\n",
       "    <tr>\n",
       "      <th>370774</th>\n",
       "      <td>USW00093852</td>\n",
       "      <td>18801231</td>\n",
       "      <td>TMAX</td>\n",
       "      <td>39</td>\n",
       "      <td>NaN</td>\n",
       "      <td>NaN</td>\n",
       "      <td>X</td>\n",
       "      <td>NaN</td>\n",
       "    </tr>\n",
       "    <tr>\n",
       "      <th>370775</th>\n",
       "      <td>USW00093852</td>\n",
       "      <td>18801231</td>\n",
       "      <td>TMIN</td>\n",
       "      <td>-17</td>\n",
       "      <td>NaN</td>\n",
       "      <td>NaN</td>\n",
       "      <td>X</td>\n",
       "      <td>NaN</td>\n",
       "    </tr>\n",
       "    <tr>\n",
       "      <th>370776</th>\n",
       "      <td>USW00094728</td>\n",
       "      <td>18801231</td>\n",
       "      <td>TMAX</td>\n",
       "      <td>-122</td>\n",
       "      <td>NaN</td>\n",
       "      <td>NaN</td>\n",
       "      <td>0</td>\n",
       "      <td>NaN</td>\n",
       "    </tr>\n",
       "    <tr>\n",
       "      <th>370777</th>\n",
       "      <td>USW00094728</td>\n",
       "      <td>18801231</td>\n",
       "      <td>TMIN</td>\n",
       "      <td>-194</td>\n",
       "      <td>NaN</td>\n",
       "      <td>NaN</td>\n",
       "      <td>0</td>\n",
       "      <td>NaN</td>\n",
       "    </tr>\n",
       "    <tr>\n",
       "      <th>370778</th>\n",
       "      <td>USW00094728</td>\n",
       "      <td>18801231</td>\n",
       "      <td>PRCP</td>\n",
       "      <td>0</td>\n",
       "      <td>NaN</td>\n",
       "      <td>NaN</td>\n",
       "      <td>0</td>\n",
       "      <td>NaN</td>\n",
       "    </tr>\n",
       "  </tbody>\n",
       "</table>\n",
       "<p>370779 rows × 8 columns</p>\n",
       "</div>"
      ],
      "text/plain": [
       "                 id      date element_code  value mflag qflag sflag  obstime\n",
       "0       AGE00147705  18800101         PRCP      0   NaN   NaN     E      NaN\n",
       "1       AGE00147708  18800101         PRCP     36   NaN   NaN     E      NaN\n",
       "2       AGE00147709  18800101         PRCP     36   NaN   NaN     E      NaN\n",
       "3       AGE00147712  18800101         PRCP      0   NaN   NaN     E      NaN\n",
       "4       AGE00147713  18800101         TMAX     52   NaN   NaN     E      NaN\n",
       "...             ...       ...          ...    ...   ...   ...   ...      ...\n",
       "370774  USW00093852  18801231         TMAX     39   NaN   NaN     X      NaN\n",
       "370775  USW00093852  18801231         TMIN    -17   NaN   NaN     X      NaN\n",
       "370776  USW00094728  18801231         TMAX   -122   NaN   NaN     0      NaN\n",
       "370777  USW00094728  18801231         TMIN   -194   NaN   NaN     0      NaN\n",
       "370778  USW00094728  18801231         PRCP      0   NaN   NaN     0      NaN\n",
       "\n",
       "[370779 rows x 8 columns]"
      ]
     },
     "execution_count": 3,
     "metadata": {},
     "output_type": "execute_result"
    }
   ],
   "source": [
    "myDF"
   ]
  },
  {
   "cell_type": "code",
   "execution_count": 4,
   "id": "483bfda7-310a-443b-a073-23581f3305df",
   "metadata": {},
   "outputs": [
    {
     "data": {
      "text/plain": [
       "(31676, 8)"
      ]
     },
     "execution_count": 4,
     "metadata": {},
     "output_type": "execute_result"
    }
   ],
   "source": [
    "myDF[(myDF['date'] >= 18800701) & (myDF['date'] <= 18800731)].shape"
   ]
  },
  {
   "cell_type": "code",
   "execution_count": 5,
   "id": "e9483554-9e0a-4d28-8303-57cb6261f76d",
   "metadata": {},
   "outputs": [
    {
     "data": {
      "text/plain": [
       "(370779, 8)"
      ]
     },
     "execution_count": 5,
     "metadata": {},
     "output_type": "execute_result"
    }
   ],
   "source": [
    "myDF.shape"
   ]
  },
  {
   "cell_type": "code",
   "execution_count": 6,
   "id": "97340558-a9c4-40be-a62a-52b72fff5f03",
   "metadata": {},
   "outputs": [],
   "source": [
    "def avg_aggreg_temp(file_location, column_title_list, start_date, end_date, my_element_code = \"TAVG\"):\n",
    "    \"\"\"\n",
    "    arguments:\n",
    "    file_location - the exact location in anvil of the specific file to be analyzed\n",
    "    column_title_list - the names of the columns of the dataset\n",
    "    start_date - the beginning date to use to analysis\n",
    "    end_date - the last date to use for analysis\n",
    "    my_element_code - the type of data (this limits the amount of rows in the data) to be considered in the analysis\n",
    "    \n",
    "    returns:\n",
    "    A float that is the average values of the rows from the start_date to the end_date based upon the element_code parameter passed in\n",
    "    \"\"\"\n",
    "    myDF = pd.read_csv(file_location, header=None, names=column_title_list)\n",
    "    my_result = myDF[(myDF['date'] >= start_date) & (myDF['date'] <= end_date) & (myDF['element_code'] == my_element_code)]['value'].mean()\n",
    "    return my_result"
   ]
  },
  {
   "cell_type": "code",
   "execution_count": 7,
   "id": "428d1232-60be-4794-a443-1c3c519e48d2",
   "metadata": {},
   "outputs": [
    {
     "data": {
      "text/plain": [
       "12.317542410053962"
      ]
     },
     "execution_count": 7,
     "metadata": {},
     "output_type": "execute_result"
    }
   ],
   "source": [
    "avg_aggreg_temp('/anvil/projects/tdm/data/noaa/2018.csv', [\"id\",\"date\",\"element_code\",\"value\",\"mflag\",\"qflag\",\"sflag\",\"obstime\"], 20180101, 20180115, \"TAVG\")"
   ]
  },
  {
   "cell_type": "markdown",
   "id": "b456e57c-4a12-464b-999a-ef2df5af80c1",
   "metadata": {},
   "source": [
    "Markdown notes and sentences and analysis written here."
   ]
  },
  {
   "cell_type": "markdown",
   "id": "fc601975-35ed-4680-a4e1-0273ee3cc047",
   "metadata": {},
   "source": [
    "## Question 2"
   ]
  },
  {
   "cell_type": "code",
   "execution_count": 3,
   "id": "a16336a1-1ef0-41e8-bc7c-49387db27497",
   "metadata": {},
   "outputs": [],
   "source": [
    "column_title_list =  [\"id\",\"date\",\"element_code\",\"value\",\"mflag\",\"qflag\",\"sflag\",\"obstime\"]\n",
    "myyear = 1880\n",
    "file_location = f'/anvil/projects/tdm/data/noaa/{myyear}.csv'\n",
    "my_element_code = 'PCRP'"
   ]
  },
  {
   "cell_type": "code",
   "execution_count": 4,
   "id": "b7536cb4-8512-4830-9e79-0985a22cf714",
   "metadata": {},
   "outputs": [],
   "source": [
    "myresult = myDF[(myDF['element_code'] == my_element_code)]['value'].mean()"
   ]
  },
  {
   "cell_type": "code",
   "execution_count": 9,
   "id": "4e93b018-3da0-4223-a9a7-8767dff1e52a",
   "metadata": {},
   "outputs": [],
   "source": [
    "def avg_aggreg_temp_by_year(range_of_years, column_title_list, my_element_code = \"TAVG\") -> float:\n",
    "    \"\"\"\n",
    "    arguments:\n",
    "    range_of_years - the total amount of years that is inclusive\n",
    "    column_title_list - the names of the columns of the dataset\n",
    "    my_element_code  - the type of data (this limits the amount of rows in the data) to be considered in the analysis\n",
    "\n",
    "    returns:\n",
    "    a dictionary with one floating point value for each year with the average of the values for the rows corresponding to the chosen elements based on the element_code provided as well\n",
    "    \"\"\"\n",
    "    \n",
    "    mydict = {}\n",
    "    for myyear in range_of_years:\n",
    "        file_location = f'/anvil/projects/tdm/data/noaa/{myyear}.csv'\n",
    "        myDF = pd.read_csv(file_location, header=None, names=column_title_list)\n",
    "        myresult = myDF[(myDF['element_code'] == my_element_code)]['value'].mean()\n",
    "        mydict[myyear] = myresult\n",
    "    return mydict"
   ]
  },
  {
   "cell_type": "code",
   "execution_count": 10,
   "id": "8d8ae16d-c795-4fbb-8fab-6ea473a0f789",
   "metadata": {},
   "outputs": [
    {
     "data": {
      "text/plain": [
       "{1880: 127.30054644808743,\n",
       " 1881: 49.00669116954104,\n",
       " 1882: 58.33541290428501,\n",
       " 1883: 50.54050116550116}"
      ]
     },
     "execution_count": 10,
     "metadata": {},
     "output_type": "execute_result"
    }
   ],
   "source": [
    "avg_aggreg_temp_by_year(range(1880,1884), [\"id\",\"date\",\"element_code\",\"value\",\"mflag\",\"qflag\",\"sflag\",\"obstime\"], \"TAVG\")"
   ]
  },
  {
   "cell_type": "markdown",
   "id": "14dc22d4-ddc3-41cc-a91a-cb0025bc0c80",
   "metadata": {},
   "source": [
    "Markdown notes and sentences and analysis written here."
   ]
  },
  {
   "cell_type": "markdown",
   "id": "8e586edd-ff26-4ce2-8f6b-2424b26f2929",
   "metadata": {},
   "source": [
    "## Question 3"
   ]
  },
  {
   "cell_type": "code",
   "execution_count": 7,
   "id": "880fadd5-b6c9-400b-a2e1-d199cfa02bf6",
   "metadata": {},
   "outputs": [],
   "source": [
    "def avg_aggreg_temp_by_year_and_month(range_of_years, mymonth, column_title_list, my_element_code = \"TAVG\") -> float:\n",
    "    \"\"\"\n",
    "    arguments:\n",
    "    range_of_years - a list that contains the years of the data we want to analyze\n",
    "    mymonth - the only month in the range we want to analyze\n",
    "    column_title_list - the names of the columns of the dataset\n",
    "    my_element_code  - the type of data (this limits the amount of rows in the data) to be considered in the analysis\n",
    "\n",
    "    returns:\n",
    "    a dictionary with one floating point value for each year with the average of the values for the rows corresponding to the chosen elements based on the element_code provided and a specific month\n",
    "    \"\"\"\n",
    "    \n",
    "    mydict = {}\n",
    "    for myyear in range_of_years:\n",
    "        file_location = f'/anvil/projects/tdm/data/noaa/{myyear}.csv'\n",
    "        myDF = pd.read_csv(file_location, header=None, names=column_title_list)\n",
    "        myDF['month'] = pd.to_datetime(myDF['date'], format='%Y%m%d').dt.month\n",
    "        myresult = myDF[(myDF['element_code'] == my_element_code) & (myDF['month'] == mymonth)]['value'].mean()\n",
    "        mydict[myyear] = myresult\n",
    "    return mydict"
   ]
  },
  {
   "cell_type": "code",
   "execution_count": 8,
   "id": "46d23975-a841-4aa5-80da-349acaecfa00",
   "metadata": {},
   "outputs": [
    {
     "data": {
      "text/plain": [
       "{1880: 235.09677419354838,\n",
       " 1881: 200.40793825799338,\n",
       " 1882: 217.031465093412,\n",
       " 1883: 212.14209591474244}"
      ]
     },
     "execution_count": 8,
     "metadata": {},
     "output_type": "execute_result"
    }
   ],
   "source": [
    "avg_aggreg_temp_by_year_and_month(range(1880,1884), 7,  [\"id\",\"date\",\"element_code\",\"value\",\"mflag\",\"qflag\",\"sflag\",\"obstime\"], \"TAVG\")"
   ]
  },
  {
   "cell_type": "markdown",
   "id": "47c6229f-35f7-400c-8366-c442baa5cf47",
   "metadata": {},
   "source": [
    "Markdown notes and sentences and analysis written here."
   ]
  },
  {
   "cell_type": "markdown",
   "id": "da22f29c-d245-4d2b-9fc1-ca14cb6087d9",
   "metadata": {},
   "source": [
    "## Question 4"
   ]
  },
  {
   "cell_type": "code",
   "execution_count": 2,
   "id": "8cffc767-d1c8-4d64-b7dc-f0d2ee8a80d1",
   "metadata": {},
   "outputs": [],
   "source": [
    "def most_qflags(range_of_years, column_title_list, my_qflag) -> dict:\n",
    "    \"\"\"\n",
    "    arguments:\n",
    "    range_of_years - a list that contains the years of the data we want to analyze\n",
    "    column_title_list - the names of the columns of the dataset\n",
    "    my_qflag - the specified type of the qflag based on the paramter passed to the function\n",
    "\n",
    "    \n",
    "    returns:\n",
    "    a dictionary with the list of each of the years in the range provided for the rows corresponding to elements that have the same qflag as provided in the function parameters\n",
    "    \"\"\"\n",
    "    myqflagdict = {}\n",
    "    for myyear in range_of_years:\n",
    "        file_location = f'/anvil/projects/tdm/data/noaa/{myyear}.csv'\n",
    "        myDF = pd.read_csv(file_location, header=None, names=column_title_list)\n",
    "        qflag = myDF[(myDF['qflag'] == my_qflag)].shape[0]\n",
    "        mycount = myDF[(myDF['qflag'] == my_qflag)]['value'].count()\n",
    "        myqflagdict[myyear] = qflag\n",
    "    return myqflagdict"
   ]
  },
  {
   "cell_type": "code",
   "execution_count": 4,
   "id": "896fcac9-89d0-4ab0-91e1-f7830d04d292",
   "metadata": {},
   "outputs": [
    {
     "data": {
      "text/plain": [
       "{1880: 363, 1881: 358, 1882: 397, 1883: 438}"
      ]
     },
     "execution_count": 4,
     "metadata": {},
     "output_type": "execute_result"
    }
   ],
   "source": [
    "most_qflags(range(1880, 1884), [\"id\",\"date\",\"element_code\",\"value\",\"mflag\",\"qflag\",\"sflag\",\"obstime\"], \"I\") # This gets the years from 1880 to 1883"
   ]
  },
  {
   "cell_type": "code",
   "execution_count": 5,
   "id": "c03e9140-0b50-4a95-abd0-cc41f92bcba3",
   "metadata": {},
   "outputs": [
    {
     "data": {
      "text/plain": [
       "{1880: 548, 1881: 454, 1882: 365, 1883: 214}"
      ]
     },
     "execution_count": 5,
     "metadata": {},
     "output_type": "execute_result"
    }
   ],
   "source": [
    "most_qflags(range(1880, 1884), [\"id\",\"date\",\"element_code\",\"value\",\"mflag\",\"qflag\",\"sflag\",\"obstime\"], \"D\") # This gets the years from 1880 to 1883"
   ]
  },
  {
   "cell_type": "code",
   "execution_count": 6,
   "id": "c08eccbe-7ee7-4b3d-bbdd-512bb3ca96ce",
   "metadata": {},
   "outputs": [
    {
     "data": {
      "text/plain": [
       "{1880: 3, 1881: 14, 1882: 8, 1883: 5}"
      ]
     },
     "execution_count": 6,
     "metadata": {},
     "output_type": "execute_result"
    }
   ],
   "source": [
    "most_qflags(range(1880, 1884), [\"id\",\"date\",\"element_code\",\"value\",\"mflag\",\"qflag\",\"sflag\",\"obstime\"], \"X\") # This gets the years from 1880 to 1883"
   ]
  },
  {
   "cell_type": "markdown",
   "id": "0d552245-b4d6-474a-9cc9-fa7b8e674d55",
   "metadata": {},
   "source": [
    "Therefore, based on the range inputted from 1880 to 1883, I can easily identify the year that has the most qflags for \"I\", and for that range of years it was 1883.\n",
    "I tested it with other values as well as shown above."
   ]
  },
  {
   "cell_type": "markdown",
   "id": "88c9cdac-3e92-498f-83fa-e089bfc44ac8",
   "metadata": {},
   "source": [
    "## Question 5"
   ]
  },
  {
   "cell_type": "code",
   "execution_count": 14,
   "id": "d370d7c9-06db-42b9-b75f-240481a5c491",
   "metadata": {},
   "outputs": [],
   "source": [
    "myDF = pd.read_csv(\"/anvil/projects/tdm/data/noaa/2022.csv\" , header=None, names=[\"id\",\"date\",\"element_code\",\"value\",\"mflag\",\"qflag\",\"sflag\",\"obstime\"])"
   ]
  },
  {
   "cell_type": "code",
   "execution_count": 15,
   "id": "2c193d27-8b1b-474e-8b3a-1b5d58609e7c",
   "metadata": {},
   "outputs": [
    {
     "data": {
      "text/html": [
       "<div>\n",
       "<style scoped>\n",
       "    .dataframe tbody tr th:only-of-type {\n",
       "        vertical-align: middle;\n",
       "    }\n",
       "\n",
       "    .dataframe tbody tr th {\n",
       "        vertical-align: top;\n",
       "    }\n",
       "\n",
       "    .dataframe thead th {\n",
       "        text-align: right;\n",
       "    }\n",
       "</style>\n",
       "<table border=\"1\" class=\"dataframe\">\n",
       "  <thead>\n",
       "    <tr style=\"text-align: right;\">\n",
       "      <th></th>\n",
       "      <th>id</th>\n",
       "      <th>date</th>\n",
       "      <th>element_code</th>\n",
       "      <th>value</th>\n",
       "      <th>mflag</th>\n",
       "      <th>qflag</th>\n",
       "      <th>sflag</th>\n",
       "      <th>obstime</th>\n",
       "    </tr>\n",
       "  </thead>\n",
       "  <tbody>\n",
       "    <tr>\n",
       "      <th>0</th>\n",
       "      <td>AE000041196</td>\n",
       "      <td>20220101</td>\n",
       "      <td>TAVG</td>\n",
       "      <td>204</td>\n",
       "      <td>H</td>\n",
       "      <td>NaN</td>\n",
       "      <td>S</td>\n",
       "      <td>NaN</td>\n",
       "    </tr>\n",
       "    <tr>\n",
       "      <th>1</th>\n",
       "      <td>AEM00041194</td>\n",
       "      <td>20220101</td>\n",
       "      <td>TAVG</td>\n",
       "      <td>211</td>\n",
       "      <td>H</td>\n",
       "      <td>NaN</td>\n",
       "      <td>S</td>\n",
       "      <td>NaN</td>\n",
       "    </tr>\n",
       "    <tr>\n",
       "      <th>2</th>\n",
       "      <td>AEM00041217</td>\n",
       "      <td>20220101</td>\n",
       "      <td>TAVG</td>\n",
       "      <td>209</td>\n",
       "      <td>H</td>\n",
       "      <td>NaN</td>\n",
       "      <td>S</td>\n",
       "      <td>NaN</td>\n",
       "    </tr>\n",
       "    <tr>\n",
       "      <th>3</th>\n",
       "      <td>AEM00041218</td>\n",
       "      <td>20220101</td>\n",
       "      <td>TAVG</td>\n",
       "      <td>207</td>\n",
       "      <td>H</td>\n",
       "      <td>NaN</td>\n",
       "      <td>S</td>\n",
       "      <td>NaN</td>\n",
       "    </tr>\n",
       "    <tr>\n",
       "      <th>4</th>\n",
       "      <td>AG000060390</td>\n",
       "      <td>20220101</td>\n",
       "      <td>TAVG</td>\n",
       "      <td>121</td>\n",
       "      <td>H</td>\n",
       "      <td>NaN</td>\n",
       "      <td>S</td>\n",
       "      <td>NaN</td>\n",
       "    </tr>\n",
       "    <tr>\n",
       "      <th>...</th>\n",
       "      <td>...</td>\n",
       "      <td>...</td>\n",
       "      <td>...</td>\n",
       "      <td>...</td>\n",
       "      <td>...</td>\n",
       "      <td>...</td>\n",
       "      <td>...</td>\n",
       "      <td>...</td>\n",
       "    </tr>\n",
       "    <tr>\n",
       "      <th>37786672</th>\n",
       "      <td>WF000917530</td>\n",
       "      <td>20221231</td>\n",
       "      <td>TAVG</td>\n",
       "      <td>283</td>\n",
       "      <td>H</td>\n",
       "      <td>NaN</td>\n",
       "      <td>S</td>\n",
       "      <td>NaN</td>\n",
       "    </tr>\n",
       "    <tr>\n",
       "      <th>37786673</th>\n",
       "      <td>WQW00041606</td>\n",
       "      <td>20221231</td>\n",
       "      <td>TAVG</td>\n",
       "      <td>278</td>\n",
       "      <td>H</td>\n",
       "      <td>NaN</td>\n",
       "      <td>S</td>\n",
       "      <td>NaN</td>\n",
       "    </tr>\n",
       "    <tr>\n",
       "      <th>37786674</th>\n",
       "      <td>WZ004455110</td>\n",
       "      <td>20221231</td>\n",
       "      <td>TAVG</td>\n",
       "      <td>203</td>\n",
       "      <td>H</td>\n",
       "      <td>NaN</td>\n",
       "      <td>S</td>\n",
       "      <td>NaN</td>\n",
       "    </tr>\n",
       "    <tr>\n",
       "      <th>37786675</th>\n",
       "      <td>ZI000067775</td>\n",
       "      <td>20221231</td>\n",
       "      <td>TAVG</td>\n",
       "      <td>206</td>\n",
       "      <td>H</td>\n",
       "      <td>NaN</td>\n",
       "      <td>S</td>\n",
       "      <td>NaN</td>\n",
       "    </tr>\n",
       "    <tr>\n",
       "      <th>37786676</th>\n",
       "      <td>ZI000067975</td>\n",
       "      <td>20221231</td>\n",
       "      <td>TAVG</td>\n",
       "      <td>202</td>\n",
       "      <td>H</td>\n",
       "      <td>NaN</td>\n",
       "      <td>S</td>\n",
       "      <td>NaN</td>\n",
       "    </tr>\n",
       "  </tbody>\n",
       "</table>\n",
       "<p>37786677 rows × 8 columns</p>\n",
       "</div>"
      ],
      "text/plain": [
       "                   id      date element_code  value mflag qflag sflag  obstime\n",
       "0         AE000041196  20220101         TAVG    204     H   NaN     S      NaN\n",
       "1         AEM00041194  20220101         TAVG    211     H   NaN     S      NaN\n",
       "2         AEM00041217  20220101         TAVG    209     H   NaN     S      NaN\n",
       "3         AEM00041218  20220101         TAVG    207     H   NaN     S      NaN\n",
       "4         AG000060390  20220101         TAVG    121     H   NaN     S      NaN\n",
       "...               ...       ...          ...    ...   ...   ...   ...      ...\n",
       "37786672  WF000917530  20221231         TAVG    283     H   NaN     S      NaN\n",
       "37786673  WQW00041606  20221231         TAVG    278     H   NaN     S      NaN\n",
       "37786674  WZ004455110  20221231         TAVG    203     H   NaN     S      NaN\n",
       "37786675  ZI000067775  20221231         TAVG    206     H   NaN     S      NaN\n",
       "37786676  ZI000067975  20221231         TAVG    202     H   NaN     S      NaN\n",
       "\n",
       "[37786677 rows x 8 columns]"
      ]
     },
     "execution_count": 15,
     "metadata": {},
     "output_type": "execute_result"
    }
   ],
   "source": [
    "myDF"
   ]
  },
  {
   "cell_type": "code",
   "execution_count": 23,
   "id": "e54bdfb0-7a4c-480e-948c-4b35433dfce6",
   "metadata": {},
   "outputs": [],
   "source": [
    "def min_temp_for_years(range_of_years, column_title_list) -> float:\n",
    "    \"\"\"\n",
    "    arguments:\n",
    "    range_of_years - a list that contains the years of the data we want to analyze\n",
    "    column_title_list - the names of the columns of the dataset\n",
    "\n",
    "    returns:\n",
    "    a dictionary with one floating point value for each year with the minimum temperature values\n",
    "    \"\"\"\n",
    "    \n",
    "    mydict = {}\n",
    "    for myyear in range_of_years:\n",
    "        file_location = f'/anvil/projects/tdm/data/noaa/{myyear}.csv'\n",
    "        myDF = pd.read_csv(file_location, header=None, names=column_title_list)\n",
    "        myresult = myDF['value'].min()\n",
    "        mydict[myyear] = myresult\n",
    "    return mydict"
   ]
  },
  {
   "cell_type": "code",
   "execution_count": 24,
   "id": "252ecafa-0716-4e7b-971a-98ff29c1847f",
   "metadata": {},
   "outputs": [
    {
     "data": {
      "text/plain": [
       "{2018: -1016, 2019: -2537, 2020: -990, 2021: -796}"
      ]
     },
     "execution_count": 24,
     "metadata": {},
     "output_type": "execute_result"
    }
   ],
   "source": [
    "min_temp_for_years(range(2018, 2022), [\"id\",\"date\",\"element_code\",\"value\",\"mflag\",\"qflag\",\"sflag\",\"obstime\"])"
   ]
  },
  {
   "cell_type": "markdown",
   "id": "9fbf00fb-2418-460f-ae94-2a32b0c28952",
   "metadata": {},
   "source": [
    "Based on the above, I was able to find the minimum values for the temperature for each year given the range of the yeras I provided as the input."
   ]
  },
  {
   "cell_type": "markdown",
   "id": "f76442d6-d02e-4f26-b9d6-c3183e1d6929",
   "metadata": {},
   "source": [
    "## Pledge\n",
    "\n",
    "By submitting this work I hereby pledge that this is my own, personal work. I've acknowledged in the designated place at the top of this file all sources that I used to complete said work, including but not limited to: online resources, books, and electronic communications. I've noted all collaboration with fellow students and/or TA's. I did not copy or plagiarize another's work.\n",
    "\n",
    "> As a Boilermaker pursuing academic excellence, I pledge to be honest and true in all that I do. Accountable together – We are Purdue."
   ]
  }
 ],
 "metadata": {
  "kernelspec": {
   "display_name": "seminar",
   "language": "python",
   "name": "seminar"
  },
  "language_info": {
   "codemirror_mode": {
    "name": "ipython",
    "version": 3
   },
   "file_extension": ".py",
   "mimetype": "text/x-python",
   "name": "python",
   "nbconvert_exporter": "python",
   "pygments_lexer": "ipython3",
   "version": "3.11.5"
  }
 },
 "nbformat": 4,
 "nbformat_minor": 5
}
