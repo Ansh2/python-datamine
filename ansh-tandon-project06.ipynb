{
 "cells": [
  {
   "cell_type": "markdown",
   "id": "be02a957-7133-4d02-818e-fedeb3cecb05",
   "metadata": {},
   "source": [
    "# Project 06 -- Ansh Tandon"
   ]
  },
  {
   "cell_type": "markdown",
   "id": "a1228853-dd19-4ab2-89e0-0394d7d72de3",
   "metadata": {},
   "source": [
    "**TA Help:** John Smith, Alice Jones\n",
    "\n",
    "- Help with figuring out how to write a function.\n",
    "    \n",
    "**Collaboration:** Friend1, Friend2\n",
    "    \n",
    "- Helped figuring out how to load the dataset.\n",
    "- Helped debug error with my plot."
   ]
  },
  {
   "cell_type": "markdown",
   "id": "6180e742-8e39-4698-98ff-5b00c8cf8ea0",
   "metadata": {},
   "source": [
    "## Question 1"
   ]
  },
  {
   "cell_type": "code",
   "execution_count": 2,
   "id": "49445606-d363-41b4-b479-e319a9a84c01",
   "metadata": {},
   "outputs": [],
   "source": [
    "import pandas as pd"
   ]
  },
  {
   "cell_type": "code",
   "execution_count": 9,
   "id": "dd554e7b-a555-44b4-85a9-342c3257d77e",
   "metadata": {},
   "outputs": [],
   "source": [
    "myyear = 1980"
   ]
  },
  {
   "cell_type": "code",
   "execution_count": 10,
   "id": "d29b2a4b-64d3-488b-a088-fffe4c1debdc",
   "metadata": {},
   "outputs": [],
   "source": [
    "myfilepath = f'/anvil/projects/tdm/data/election/itcont{myyear}.txt'"
   ]
  },
  {
   "cell_type": "code",
   "execution_count": 11,
   "id": "6b84aacd-2878-46ee-911b-6ef0e5d3284a",
   "metadata": {},
   "outputs": [],
   "source": [
    "mycolumnnames=[\"CMTE_ID\",\"AMNDT_IND\",\"RPT_TP\",\"TRANSACTION_PGI\",\"IMAGE_NUM\",\"TRANSACTION_TP\",\"ENTITY_TP\",\"NAME\",\"CITY\",\"STATE\",\"ZIP_CODE\",\"EMPLOYER\",\"OCCUPATION\",\"TRANSACTION_DT\",\"TRANSACTION_AMT\",\"OTHER_ID\",\"TRAN_ID\",\"FILE_NUM\",\"MEMO_CD\",\"MEMO_TEXT\",\"SUB_ID\"]\n"
   ]
  },
  {
   "cell_type": "code",
   "execution_count": 12,
   "id": "f89b57c6-24c9-4847-9ea9-2e9c25165df1",
   "metadata": {},
   "outputs": [],
   "source": [
    "mydictionarytypes = {\"CMTE_ID\": str, \"AMNDT_IND\": str, \"RPT_TP\": str, \"TRANSACTION_PGI\": str, \"IMAGE_NUM\": str, \"TRANSACTION_TP\": str, \"ENTITY_TP\": str, \"NAME\": str, \"CITY\": str, \"STATE\": str, \"ZIP_CODE\": str, \"EMPLOYER\": str, \"OCCUPATION\": str, \"TRANSACTION_DT\": str, \"TRANSACTION_AMT\": float, \"OTHER_ID\": str, \"TRAN_ID\": str, \"FILE_NUM\": str, \"MEMO_CD\": str, \"MEMO_TEXT\": str, \"SUB_ID\": int}\n"
   ]
  },
  {
   "cell_type": "code",
   "execution_count": 13,
   "id": "a22b55bf-fa50-41db-9815-928f2bb3db50",
   "metadata": {},
   "outputs": [],
   "source": [
    "myDF = pd.read_csv(myfilepath, delimiter='|', names=mycolumnnames, dtype=mydictionarytypes)\n"
   ]
  },
  {
   "cell_type": "code",
   "execution_count": 14,
   "id": "68f75282-37d0-445c-a8d5-94c3d9f057a5",
   "metadata": {},
   "outputs": [],
   "source": [
    "myDF['TRANSACTION_DT'] = pd.to_datetime(myDF['TRANSACTION_DT'], format=\"%m%d%Y\")"
   ]
  },
  {
   "cell_type": "code",
   "execution_count": 15,
   "id": "d0340c97-e49f-48e5-acfc-c08fe72e2f8a",
   "metadata": {},
   "outputs": [
    {
     "data": {
      "text/plain": [
       "0   1979-10-03\n",
       "1   1979-10-26\n",
       "2   1979-10-26\n",
       "3   1979-10-26\n",
       "4   1979-03-20\n",
       "5   1979-02-28\n",
       "6   1979-03-05\n",
       "7   1979-03-12\n",
       "8   1979-03-19\n",
       "9   1979-02-27\n",
       "Name: TRANSACTION_DT, dtype: datetime64[ns]"
      ]
     },
     "execution_count": 15,
     "metadata": {},
     "output_type": "execute_result"
    }
   ],
   "source": [
    "myDF['TRANSACTION_DT'][0:10]"
   ]
  },
  {
   "cell_type": "code",
   "execution_count": 16,
   "id": "b39cf803-d658-4039-8bc5-e43b77995077",
   "metadata": {},
   "outputs": [
    {
     "data": {
      "text/html": [
       "<div>\n",
       "<style scoped>\n",
       "    .dataframe tbody tr th:only-of-type {\n",
       "        vertical-align: middle;\n",
       "    }\n",
       "\n",
       "    .dataframe tbody tr th {\n",
       "        vertical-align: top;\n",
       "    }\n",
       "\n",
       "    .dataframe thead th {\n",
       "        text-align: right;\n",
       "    }\n",
       "</style>\n",
       "<table border=\"1\" class=\"dataframe\">\n",
       "  <thead>\n",
       "    <tr style=\"text-align: right;\">\n",
       "      <th></th>\n",
       "      <th>CMTE_ID</th>\n",
       "      <th>AMNDT_IND</th>\n",
       "      <th>RPT_TP</th>\n",
       "      <th>TRANSACTION_PGI</th>\n",
       "      <th>IMAGE_NUM</th>\n",
       "      <th>TRANSACTION_TP</th>\n",
       "      <th>ENTITY_TP</th>\n",
       "      <th>NAME</th>\n",
       "      <th>CITY</th>\n",
       "      <th>STATE</th>\n",
       "      <th>...</th>\n",
       "      <th>EMPLOYER</th>\n",
       "      <th>OCCUPATION</th>\n",
       "      <th>TRANSACTION_DT</th>\n",
       "      <th>TRANSACTION_AMT</th>\n",
       "      <th>OTHER_ID</th>\n",
       "      <th>TRAN_ID</th>\n",
       "      <th>FILE_NUM</th>\n",
       "      <th>MEMO_CD</th>\n",
       "      <th>MEMO_TEXT</th>\n",
       "      <th>SUB_ID</th>\n",
       "    </tr>\n",
       "  </thead>\n",
       "  <tbody>\n",
       "    <tr>\n",
       "      <th>0</th>\n",
       "      <td>C00078279</td>\n",
       "      <td>A</td>\n",
       "      <td>M11</td>\n",
       "      <td>P</td>\n",
       "      <td>80031492155</td>\n",
       "      <td>22Y</td>\n",
       "      <td>NaN</td>\n",
       "      <td>MCKENNON, K R</td>\n",
       "      <td>MIDLAND</td>\n",
       "      <td>MI</td>\n",
       "      <td>...</td>\n",
       "      <td>NaN</td>\n",
       "      <td>NaN</td>\n",
       "      <td>1979-10-03</td>\n",
       "      <td>400.0</td>\n",
       "      <td>NaN</td>\n",
       "      <td>NaN</td>\n",
       "      <td>NaN</td>\n",
       "      <td>NaN</td>\n",
       "      <td>CONTRIBUTION REF TO INDIVIDUAL</td>\n",
       "      <td>3062020110011466469</td>\n",
       "    </tr>\n",
       "    <tr>\n",
       "      <th>1</th>\n",
       "      <td>C00078279</td>\n",
       "      <td>A</td>\n",
       "      <td>M11</td>\n",
       "      <td>NaN</td>\n",
       "      <td>79031415137</td>\n",
       "      <td>15</td>\n",
       "      <td>NaN</td>\n",
       "      <td>OREFFICE, P</td>\n",
       "      <td>MIDLAND</td>\n",
       "      <td>MI</td>\n",
       "      <td>...</td>\n",
       "      <td>DOW CHEMICAL CO</td>\n",
       "      <td>NaN</td>\n",
       "      <td>1979-10-26</td>\n",
       "      <td>1500.0</td>\n",
       "      <td>NaN</td>\n",
       "      <td>NaN</td>\n",
       "      <td>NaN</td>\n",
       "      <td>NaN</td>\n",
       "      <td>NaN</td>\n",
       "      <td>3061920110000382948</td>\n",
       "    </tr>\n",
       "    <tr>\n",
       "      <th>2</th>\n",
       "      <td>C00078279</td>\n",
       "      <td>A</td>\n",
       "      <td>M11</td>\n",
       "      <td>NaN</td>\n",
       "      <td>79031415137</td>\n",
       "      <td>15</td>\n",
       "      <td>NaN</td>\n",
       "      <td>DOWNEY, J</td>\n",
       "      <td>MIDLAND</td>\n",
       "      <td>MI</td>\n",
       "      <td>...</td>\n",
       "      <td>DOW CHEMICAL CO</td>\n",
       "      <td>NaN</td>\n",
       "      <td>1979-10-26</td>\n",
       "      <td>300.0</td>\n",
       "      <td>NaN</td>\n",
       "      <td>NaN</td>\n",
       "      <td>NaN</td>\n",
       "      <td>NaN</td>\n",
       "      <td>NaN</td>\n",
       "      <td>3061920110000382949</td>\n",
       "    </tr>\n",
       "    <tr>\n",
       "      <th>3</th>\n",
       "      <td>C00078279</td>\n",
       "      <td>A</td>\n",
       "      <td>M11</td>\n",
       "      <td>NaN</td>\n",
       "      <td>79031415137</td>\n",
       "      <td>15</td>\n",
       "      <td>NaN</td>\n",
       "      <td>BLAIR, E</td>\n",
       "      <td>MIDLAND</td>\n",
       "      <td>MI</td>\n",
       "      <td>...</td>\n",
       "      <td>DOW CHEMICAL CO</td>\n",
       "      <td>NaN</td>\n",
       "      <td>1979-10-26</td>\n",
       "      <td>1000.0</td>\n",
       "      <td>NaN</td>\n",
       "      <td>NaN</td>\n",
       "      <td>NaN</td>\n",
       "      <td>NaN</td>\n",
       "      <td>NaN</td>\n",
       "      <td>3061920110000382950</td>\n",
       "    </tr>\n",
       "    <tr>\n",
       "      <th>4</th>\n",
       "      <td>C00078287</td>\n",
       "      <td>A</td>\n",
       "      <td>Q1</td>\n",
       "      <td>NaN</td>\n",
       "      <td>79031231889</td>\n",
       "      <td>15</td>\n",
       "      <td>NaN</td>\n",
       "      <td>BLANCHARD, JOHN A</td>\n",
       "      <td>CHICAGO</td>\n",
       "      <td>IL</td>\n",
       "      <td>...</td>\n",
       "      <td>NaN</td>\n",
       "      <td>NaN</td>\n",
       "      <td>1979-03-20</td>\n",
       "      <td>200.0</td>\n",
       "      <td>NaN</td>\n",
       "      <td>NaN</td>\n",
       "      <td>NaN</td>\n",
       "      <td>NaN</td>\n",
       "      <td>NaN</td>\n",
       "      <td>3061920110000383914</td>\n",
       "    </tr>\n",
       "  </tbody>\n",
       "</table>\n",
       "<p>5 rows × 21 columns</p>\n",
       "</div>"
      ],
      "text/plain": [
       "     CMTE_ID AMNDT_IND RPT_TP TRANSACTION_PGI    IMAGE_NUM TRANSACTION_TP  \\\n",
       "0  C00078279         A    M11               P  80031492155            22Y   \n",
       "1  C00078279         A    M11             NaN  79031415137             15   \n",
       "2  C00078279         A    M11             NaN  79031415137             15   \n",
       "3  C00078279         A    M11             NaN  79031415137             15   \n",
       "4  C00078287         A     Q1             NaN  79031231889             15   \n",
       "\n",
       "  ENTITY_TP               NAME     CITY STATE  ...         EMPLOYER  \\\n",
       "0       NaN      MCKENNON, K R  MIDLAND    MI  ...              NaN   \n",
       "1       NaN        OREFFICE, P  MIDLAND    MI  ...  DOW CHEMICAL CO   \n",
       "2       NaN          DOWNEY, J  MIDLAND    MI  ...  DOW CHEMICAL CO   \n",
       "3       NaN           BLAIR, E  MIDLAND    MI  ...  DOW CHEMICAL CO   \n",
       "4       NaN  BLANCHARD, JOHN A  CHICAGO    IL  ...              NaN   \n",
       "\n",
       "  OCCUPATION TRANSACTION_DT TRANSACTION_AMT  OTHER_ID TRAN_ID FILE_NUM  \\\n",
       "0        NaN     1979-10-03           400.0       NaN     NaN      NaN   \n",
       "1        NaN     1979-10-26          1500.0       NaN     NaN      NaN   \n",
       "2        NaN     1979-10-26           300.0       NaN     NaN      NaN   \n",
       "3        NaN     1979-10-26          1000.0       NaN     NaN      NaN   \n",
       "4        NaN     1979-03-20           200.0       NaN     NaN      NaN   \n",
       "\n",
       "  MEMO_CD                       MEMO_TEXT               SUB_ID  \n",
       "0     NaN  CONTRIBUTION REF TO INDIVIDUAL  3062020110011466469  \n",
       "1     NaN                             NaN  3061920110000382948  \n",
       "2     NaN                             NaN  3061920110000382949  \n",
       "3     NaN                             NaN  3061920110000382950  \n",
       "4     NaN                             NaN  3061920110000383914  \n",
       "\n",
       "[5 rows x 21 columns]"
      ]
     },
     "execution_count": 16,
     "metadata": {},
     "output_type": "execute_result"
    }
   ],
   "source": [
    "myDF.head()"
   ]
  },
  {
   "cell_type": "code",
   "execution_count": 3,
   "id": "4421ea9a-5a11-445f-bf6a-04ced8279944",
   "metadata": {},
   "outputs": [],
   "source": [
    "def read_election_year (myyear: int) -> pd.DataFrame:\n",
    "    \"\"\"\n",
    "    This function accepts a 4-digit year as input, and returns a data frame that contains information about the donations to the federal election campaigns in that year\n",
    "    \n",
    "    Args:\n",
    "    myyear (int): The is a 4-digit year for which we will load a data frame to be returned. \n",
    "    \n",
    "    Returns:\n",
    "    myDF (pd.DataFrame): This is the data frame that contains the information about the donations to the fedearl election campaigns. \n",
    "    \"\"\"\n",
    "    myfilepath = f'/anvil/projects/tdm/data/election/itcont{myyear}.txt'\n",
    "    mycolumnnames=[\"CMTE_ID\",\"AMNDT_IND\",\"RPT_TP\",\"TRANSACTION_PGI\",\"IMAGE_NUM\",\"TRANSACTION_TP\",\"ENTITY_TP\",\"NAME\",\"CITY\",\"STATE\",\"ZIP_CODE\",\"EMPLOYER\",\"OCCUPATION\",\"TRANSACTION_DT\",\"TRANSACTION_AMT\",\"OTHER_ID\",\"TRAN_ID\",\"FILE_NUM\",\"MEMO_CD\",\"MEMO_TEXT\",\"SUB_ID\"]\n",
    "    mydictionarytypes = {\"CMTE_ID\": str, \"AMNDT_IND\": str, \"RPT_TP\": str, \"TRANSACTION_PGI\": str, \"IMAGE_NUM\": str, \"TRANSACTION_TP\": str, \"ENTITY_TP\": str, \"NAME\": str, \"CITY\": str, \"STATE\": str, \"ZIP_CODE\": str, \"EMPLOYER\": str, \"OCCUPATION\": str, \"TRANSACTION_DT\": str, \"TRANSACTION_AMT\": float, \"OTHER_ID\": str, \"TRAN_ID\": str, \"FILE_NUM\": str, \"MEMO_CD\": str, \"MEMO_TEXT\": str, \"SUB_ID\": int}\n",
    "    myDF = pd.read_csv(myfilepath, delimiter='|', names=mycolumnnames, dtype=mydictionarytypes)\n",
    "    myDF['TRANSACTION_DT'] = pd.to_datetime(myDF['TRANSACTION_DT'], format=\"%m%d%Y\")\n",
    "    return myDF"
   ]
  },
  {
   "cell_type": "code",
   "execution_count": 19,
   "id": "a96b76e3-3fd9-42da-8acf-c68be015c3f7",
   "metadata": {},
   "outputs": [],
   "source": [
    "myDF = read_election_year(1988)"
   ]
  },
  {
   "cell_type": "code",
   "execution_count": 20,
   "id": "53de973b-4822-4152-9d61-273265f71f0b",
   "metadata": {},
   "outputs": [
    {
     "data": {
      "text/html": [
       "<div>\n",
       "<style scoped>\n",
       "    .dataframe tbody tr th:only-of-type {\n",
       "        vertical-align: middle;\n",
       "    }\n",
       "\n",
       "    .dataframe tbody tr th {\n",
       "        vertical-align: top;\n",
       "    }\n",
       "\n",
       "    .dataframe thead th {\n",
       "        text-align: right;\n",
       "    }\n",
       "</style>\n",
       "<table border=\"1\" class=\"dataframe\">\n",
       "  <thead>\n",
       "    <tr style=\"text-align: right;\">\n",
       "      <th></th>\n",
       "      <th>CMTE_ID</th>\n",
       "      <th>AMNDT_IND</th>\n",
       "      <th>RPT_TP</th>\n",
       "      <th>TRANSACTION_PGI</th>\n",
       "      <th>IMAGE_NUM</th>\n",
       "      <th>TRANSACTION_TP</th>\n",
       "      <th>ENTITY_TP</th>\n",
       "      <th>NAME</th>\n",
       "      <th>CITY</th>\n",
       "      <th>STATE</th>\n",
       "      <th>...</th>\n",
       "      <th>EMPLOYER</th>\n",
       "      <th>OCCUPATION</th>\n",
       "      <th>TRANSACTION_DT</th>\n",
       "      <th>TRANSACTION_AMT</th>\n",
       "      <th>OTHER_ID</th>\n",
       "      <th>TRAN_ID</th>\n",
       "      <th>FILE_NUM</th>\n",
       "      <th>MEMO_CD</th>\n",
       "      <th>MEMO_TEXT</th>\n",
       "      <th>SUB_ID</th>\n",
       "    </tr>\n",
       "  </thead>\n",
       "  <tbody>\n",
       "    <tr>\n",
       "      <th>0</th>\n",
       "      <td>C00078279</td>\n",
       "      <td>A</td>\n",
       "      <td>M11</td>\n",
       "      <td>P</td>\n",
       "      <td>80031492155</td>\n",
       "      <td>22Y</td>\n",
       "      <td>NaN</td>\n",
       "      <td>MCKENNON, K R</td>\n",
       "      <td>MIDLAND</td>\n",
       "      <td>MI</td>\n",
       "      <td>...</td>\n",
       "      <td>NaN</td>\n",
       "      <td>NaN</td>\n",
       "      <td>1979-10-03</td>\n",
       "      <td>400.0</td>\n",
       "      <td>NaN</td>\n",
       "      <td>NaN</td>\n",
       "      <td>NaN</td>\n",
       "      <td>NaN</td>\n",
       "      <td>CONTRIBUTION REF TO INDIVIDUAL</td>\n",
       "      <td>3062020110011466469</td>\n",
       "    </tr>\n",
       "    <tr>\n",
       "      <th>1</th>\n",
       "      <td>C00078279</td>\n",
       "      <td>A</td>\n",
       "      <td>M11</td>\n",
       "      <td>NaN</td>\n",
       "      <td>79031415137</td>\n",
       "      <td>15</td>\n",
       "      <td>NaN</td>\n",
       "      <td>OREFFICE, P</td>\n",
       "      <td>MIDLAND</td>\n",
       "      <td>MI</td>\n",
       "      <td>...</td>\n",
       "      <td>DOW CHEMICAL CO</td>\n",
       "      <td>NaN</td>\n",
       "      <td>1979-10-26</td>\n",
       "      <td>1500.0</td>\n",
       "      <td>NaN</td>\n",
       "      <td>NaN</td>\n",
       "      <td>NaN</td>\n",
       "      <td>NaN</td>\n",
       "      <td>NaN</td>\n",
       "      <td>3061920110000382948</td>\n",
       "    </tr>\n",
       "    <tr>\n",
       "      <th>2</th>\n",
       "      <td>C00078279</td>\n",
       "      <td>A</td>\n",
       "      <td>M11</td>\n",
       "      <td>NaN</td>\n",
       "      <td>79031415137</td>\n",
       "      <td>15</td>\n",
       "      <td>NaN</td>\n",
       "      <td>DOWNEY, J</td>\n",
       "      <td>MIDLAND</td>\n",
       "      <td>MI</td>\n",
       "      <td>...</td>\n",
       "      <td>DOW CHEMICAL CO</td>\n",
       "      <td>NaN</td>\n",
       "      <td>1979-10-26</td>\n",
       "      <td>300.0</td>\n",
       "      <td>NaN</td>\n",
       "      <td>NaN</td>\n",
       "      <td>NaN</td>\n",
       "      <td>NaN</td>\n",
       "      <td>NaN</td>\n",
       "      <td>3061920110000382949</td>\n",
       "    </tr>\n",
       "    <tr>\n",
       "      <th>3</th>\n",
       "      <td>C00078279</td>\n",
       "      <td>A</td>\n",
       "      <td>M11</td>\n",
       "      <td>NaN</td>\n",
       "      <td>79031415137</td>\n",
       "      <td>15</td>\n",
       "      <td>NaN</td>\n",
       "      <td>BLAIR, E</td>\n",
       "      <td>MIDLAND</td>\n",
       "      <td>MI</td>\n",
       "      <td>...</td>\n",
       "      <td>DOW CHEMICAL CO</td>\n",
       "      <td>NaN</td>\n",
       "      <td>1979-10-26</td>\n",
       "      <td>1000.0</td>\n",
       "      <td>NaN</td>\n",
       "      <td>NaN</td>\n",
       "      <td>NaN</td>\n",
       "      <td>NaN</td>\n",
       "      <td>NaN</td>\n",
       "      <td>3061920110000382950</td>\n",
       "    </tr>\n",
       "    <tr>\n",
       "      <th>4</th>\n",
       "      <td>C00078287</td>\n",
       "      <td>A</td>\n",
       "      <td>Q1</td>\n",
       "      <td>NaN</td>\n",
       "      <td>79031231889</td>\n",
       "      <td>15</td>\n",
       "      <td>NaN</td>\n",
       "      <td>BLANCHARD, JOHN A</td>\n",
       "      <td>CHICAGO</td>\n",
       "      <td>IL</td>\n",
       "      <td>...</td>\n",
       "      <td>NaN</td>\n",
       "      <td>NaN</td>\n",
       "      <td>1979-03-20</td>\n",
       "      <td>200.0</td>\n",
       "      <td>NaN</td>\n",
       "      <td>NaN</td>\n",
       "      <td>NaN</td>\n",
       "      <td>NaN</td>\n",
       "      <td>NaN</td>\n",
       "      <td>3061920110000383914</td>\n",
       "    </tr>\n",
       "  </tbody>\n",
       "</table>\n",
       "<p>5 rows × 21 columns</p>\n",
       "</div>"
      ],
      "text/plain": [
       "     CMTE_ID AMNDT_IND RPT_TP TRANSACTION_PGI    IMAGE_NUM TRANSACTION_TP  \\\n",
       "0  C00078279         A    M11               P  80031492155            22Y   \n",
       "1  C00078279         A    M11             NaN  79031415137             15   \n",
       "2  C00078279         A    M11             NaN  79031415137             15   \n",
       "3  C00078279         A    M11             NaN  79031415137             15   \n",
       "4  C00078287         A     Q1             NaN  79031231889             15   \n",
       "\n",
       "  ENTITY_TP               NAME     CITY STATE  ...         EMPLOYER  \\\n",
       "0       NaN      MCKENNON, K R  MIDLAND    MI  ...              NaN   \n",
       "1       NaN        OREFFICE, P  MIDLAND    MI  ...  DOW CHEMICAL CO   \n",
       "2       NaN          DOWNEY, J  MIDLAND    MI  ...  DOW CHEMICAL CO   \n",
       "3       NaN           BLAIR, E  MIDLAND    MI  ...  DOW CHEMICAL CO   \n",
       "4       NaN  BLANCHARD, JOHN A  CHICAGO    IL  ...              NaN   \n",
       "\n",
       "  OCCUPATION TRANSACTION_DT TRANSACTION_AMT  OTHER_ID TRAN_ID FILE_NUM  \\\n",
       "0        NaN     1979-10-03           400.0       NaN     NaN      NaN   \n",
       "1        NaN     1979-10-26          1500.0       NaN     NaN      NaN   \n",
       "2        NaN     1979-10-26           300.0       NaN     NaN      NaN   \n",
       "3        NaN     1979-10-26          1000.0       NaN     NaN      NaN   \n",
       "4        NaN     1979-03-20           200.0       NaN     NaN      NaN   \n",
       "\n",
       "  MEMO_CD                       MEMO_TEXT               SUB_ID  \n",
       "0     NaN  CONTRIBUTION REF TO INDIVIDUAL  3062020110011466469  \n",
       "1     NaN                             NaN  3061920110000382948  \n",
       "2     NaN                             NaN  3061920110000382949  \n",
       "3     NaN                             NaN  3061920110000382950  \n",
       "4     NaN                             NaN  3061920110000383914  \n",
       "\n",
       "[5 rows x 21 columns]"
      ]
     },
     "execution_count": 20,
     "metadata": {},
     "output_type": "execute_result"
    }
   ],
   "source": [
    "myDF.head()"
   ]
  },
  {
   "cell_type": "code",
   "execution_count": 54,
   "id": "c00b44ee-8295-4cfe-bbed-8bd97d4204b5",
   "metadata": {},
   "outputs": [],
   "source": [
    "myDF = read_election_year(1980)"
   ]
  },
  {
   "cell_type": "code",
   "execution_count": 55,
   "id": "9733c9d7-ad96-4351-816f-1c867680b5e9",
   "metadata": {},
   "outputs": [
    {
     "data": {
      "text/html": [
       "<div>\n",
       "<style scoped>\n",
       "    .dataframe tbody tr th:only-of-type {\n",
       "        vertical-align: middle;\n",
       "    }\n",
       "\n",
       "    .dataframe tbody tr th {\n",
       "        vertical-align: top;\n",
       "    }\n",
       "\n",
       "    .dataframe thead th {\n",
       "        text-align: right;\n",
       "    }\n",
       "</style>\n",
       "<table border=\"1\" class=\"dataframe\">\n",
       "  <thead>\n",
       "    <tr style=\"text-align: right;\">\n",
       "      <th></th>\n",
       "      <th>CMTE_ID</th>\n",
       "      <th>AMNDT_IND</th>\n",
       "      <th>RPT_TP</th>\n",
       "      <th>TRANSACTION_PGI</th>\n",
       "      <th>IMAGE_NUM</th>\n",
       "      <th>TRANSACTION_TP</th>\n",
       "      <th>ENTITY_TP</th>\n",
       "      <th>NAME</th>\n",
       "      <th>CITY</th>\n",
       "      <th>STATE</th>\n",
       "      <th>...</th>\n",
       "      <th>EMPLOYER</th>\n",
       "      <th>OCCUPATION</th>\n",
       "      <th>TRANSACTION_DT</th>\n",
       "      <th>TRANSACTION_AMT</th>\n",
       "      <th>OTHER_ID</th>\n",
       "      <th>TRAN_ID</th>\n",
       "      <th>FILE_NUM</th>\n",
       "      <th>MEMO_CD</th>\n",
       "      <th>MEMO_TEXT</th>\n",
       "      <th>SUB_ID</th>\n",
       "    </tr>\n",
       "  </thead>\n",
       "  <tbody>\n",
       "    <tr>\n",
       "      <th>0</th>\n",
       "      <td>C00078279</td>\n",
       "      <td>A</td>\n",
       "      <td>M11</td>\n",
       "      <td>P</td>\n",
       "      <td>80031492155</td>\n",
       "      <td>22Y</td>\n",
       "      <td>NaN</td>\n",
       "      <td>MCKENNON, K R</td>\n",
       "      <td>MIDLAND</td>\n",
       "      <td>MI</td>\n",
       "      <td>...</td>\n",
       "      <td>NaN</td>\n",
       "      <td>NaN</td>\n",
       "      <td>1979-10-03</td>\n",
       "      <td>400.0</td>\n",
       "      <td>NaN</td>\n",
       "      <td>NaN</td>\n",
       "      <td>NaN</td>\n",
       "      <td>NaN</td>\n",
       "      <td>CONTRIBUTION REF TO INDIVIDUAL</td>\n",
       "      <td>3062020110011466469</td>\n",
       "    </tr>\n",
       "    <tr>\n",
       "      <th>1</th>\n",
       "      <td>C00078279</td>\n",
       "      <td>A</td>\n",
       "      <td>M11</td>\n",
       "      <td>NaN</td>\n",
       "      <td>79031415137</td>\n",
       "      <td>15</td>\n",
       "      <td>NaN</td>\n",
       "      <td>OREFFICE, P</td>\n",
       "      <td>MIDLAND</td>\n",
       "      <td>MI</td>\n",
       "      <td>...</td>\n",
       "      <td>DOW CHEMICAL CO</td>\n",
       "      <td>NaN</td>\n",
       "      <td>1979-10-26</td>\n",
       "      <td>1500.0</td>\n",
       "      <td>NaN</td>\n",
       "      <td>NaN</td>\n",
       "      <td>NaN</td>\n",
       "      <td>NaN</td>\n",
       "      <td>NaN</td>\n",
       "      <td>3061920110000382948</td>\n",
       "    </tr>\n",
       "    <tr>\n",
       "      <th>2</th>\n",
       "      <td>C00078279</td>\n",
       "      <td>A</td>\n",
       "      <td>M11</td>\n",
       "      <td>NaN</td>\n",
       "      <td>79031415137</td>\n",
       "      <td>15</td>\n",
       "      <td>NaN</td>\n",
       "      <td>DOWNEY, J</td>\n",
       "      <td>MIDLAND</td>\n",
       "      <td>MI</td>\n",
       "      <td>...</td>\n",
       "      <td>DOW CHEMICAL CO</td>\n",
       "      <td>NaN</td>\n",
       "      <td>1979-10-26</td>\n",
       "      <td>300.0</td>\n",
       "      <td>NaN</td>\n",
       "      <td>NaN</td>\n",
       "      <td>NaN</td>\n",
       "      <td>NaN</td>\n",
       "      <td>NaN</td>\n",
       "      <td>3061920110000382949</td>\n",
       "    </tr>\n",
       "    <tr>\n",
       "      <th>3</th>\n",
       "      <td>C00078279</td>\n",
       "      <td>A</td>\n",
       "      <td>M11</td>\n",
       "      <td>NaN</td>\n",
       "      <td>79031415137</td>\n",
       "      <td>15</td>\n",
       "      <td>NaN</td>\n",
       "      <td>BLAIR, E</td>\n",
       "      <td>MIDLAND</td>\n",
       "      <td>MI</td>\n",
       "      <td>...</td>\n",
       "      <td>DOW CHEMICAL CO</td>\n",
       "      <td>NaN</td>\n",
       "      <td>1979-10-26</td>\n",
       "      <td>1000.0</td>\n",
       "      <td>NaN</td>\n",
       "      <td>NaN</td>\n",
       "      <td>NaN</td>\n",
       "      <td>NaN</td>\n",
       "      <td>NaN</td>\n",
       "      <td>3061920110000382950</td>\n",
       "    </tr>\n",
       "    <tr>\n",
       "      <th>4</th>\n",
       "      <td>C00078287</td>\n",
       "      <td>A</td>\n",
       "      <td>Q1</td>\n",
       "      <td>NaN</td>\n",
       "      <td>79031231889</td>\n",
       "      <td>15</td>\n",
       "      <td>NaN</td>\n",
       "      <td>BLANCHARD, JOHN A</td>\n",
       "      <td>CHICAGO</td>\n",
       "      <td>IL</td>\n",
       "      <td>...</td>\n",
       "      <td>NaN</td>\n",
       "      <td>NaN</td>\n",
       "      <td>1979-03-20</td>\n",
       "      <td>200.0</td>\n",
       "      <td>NaN</td>\n",
       "      <td>NaN</td>\n",
       "      <td>NaN</td>\n",
       "      <td>NaN</td>\n",
       "      <td>NaN</td>\n",
       "      <td>3061920110000383914</td>\n",
       "    </tr>\n",
       "  </tbody>\n",
       "</table>\n",
       "<p>5 rows × 21 columns</p>\n",
       "</div>"
      ],
      "text/plain": [
       "     CMTE_ID AMNDT_IND RPT_TP TRANSACTION_PGI    IMAGE_NUM TRANSACTION_TP  \\\n",
       "0  C00078279         A    M11               P  80031492155            22Y   \n",
       "1  C00078279         A    M11             NaN  79031415137             15   \n",
       "2  C00078279         A    M11             NaN  79031415137             15   \n",
       "3  C00078279         A    M11             NaN  79031415137             15   \n",
       "4  C00078287         A     Q1             NaN  79031231889             15   \n",
       "\n",
       "  ENTITY_TP               NAME     CITY STATE  ...         EMPLOYER  \\\n",
       "0       NaN      MCKENNON, K R  MIDLAND    MI  ...              NaN   \n",
       "1       NaN        OREFFICE, P  MIDLAND    MI  ...  DOW CHEMICAL CO   \n",
       "2       NaN          DOWNEY, J  MIDLAND    MI  ...  DOW CHEMICAL CO   \n",
       "3       NaN           BLAIR, E  MIDLAND    MI  ...  DOW CHEMICAL CO   \n",
       "4       NaN  BLANCHARD, JOHN A  CHICAGO    IL  ...              NaN   \n",
       "\n",
       "  OCCUPATION TRANSACTION_DT TRANSACTION_AMT  OTHER_ID TRAN_ID FILE_NUM  \\\n",
       "0        NaN     1979-10-03           400.0       NaN     NaN      NaN   \n",
       "1        NaN     1979-10-26          1500.0       NaN     NaN      NaN   \n",
       "2        NaN     1979-10-26           300.0       NaN     NaN      NaN   \n",
       "3        NaN     1979-10-26          1000.0       NaN     NaN      NaN   \n",
       "4        NaN     1979-03-20           200.0       NaN     NaN      NaN   \n",
       "\n",
       "  MEMO_CD                       MEMO_TEXT               SUB_ID  \n",
       "0     NaN  CONTRIBUTION REF TO INDIVIDUAL  3062020110011466469  \n",
       "1     NaN                             NaN  3061920110000382948  \n",
       "2     NaN                             NaN  3061920110000382949  \n",
       "3     NaN                             NaN  3061920110000382950  \n",
       "4     NaN                             NaN  3061920110000383914  \n",
       "\n",
       "[5 rows x 21 columns]"
      ]
     },
     "execution_count": 55,
     "metadata": {},
     "output_type": "execute_result"
    }
   ],
   "source": [
    "myDF.head()"
   ]
  },
  {
   "cell_type": "code",
   "execution_count": 56,
   "id": "b95c87d7-f2d1-4340-b1bb-f28fadba3793",
   "metadata": {},
   "outputs": [],
   "source": [
    "myDF = read_election_year(1984)"
   ]
  },
  {
   "cell_type": "code",
   "execution_count": 57,
   "id": "4982c21d-031b-4004-977d-49ba0e0dfbb1",
   "metadata": {},
   "outputs": [
    {
     "data": {
      "text/html": [
       "<div>\n",
       "<style scoped>\n",
       "    .dataframe tbody tr th:only-of-type {\n",
       "        vertical-align: middle;\n",
       "    }\n",
       "\n",
       "    .dataframe tbody tr th {\n",
       "        vertical-align: top;\n",
       "    }\n",
       "\n",
       "    .dataframe thead th {\n",
       "        text-align: right;\n",
       "    }\n",
       "</style>\n",
       "<table border=\"1\" class=\"dataframe\">\n",
       "  <thead>\n",
       "    <tr style=\"text-align: right;\">\n",
       "      <th></th>\n",
       "      <th>CMTE_ID</th>\n",
       "      <th>AMNDT_IND</th>\n",
       "      <th>RPT_TP</th>\n",
       "      <th>TRANSACTION_PGI</th>\n",
       "      <th>IMAGE_NUM</th>\n",
       "      <th>TRANSACTION_TP</th>\n",
       "      <th>ENTITY_TP</th>\n",
       "      <th>NAME</th>\n",
       "      <th>CITY</th>\n",
       "      <th>STATE</th>\n",
       "      <th>...</th>\n",
       "      <th>EMPLOYER</th>\n",
       "      <th>OCCUPATION</th>\n",
       "      <th>TRANSACTION_DT</th>\n",
       "      <th>TRANSACTION_AMT</th>\n",
       "      <th>OTHER_ID</th>\n",
       "      <th>TRAN_ID</th>\n",
       "      <th>FILE_NUM</th>\n",
       "      <th>MEMO_CD</th>\n",
       "      <th>MEMO_TEXT</th>\n",
       "      <th>SUB_ID</th>\n",
       "    </tr>\n",
       "  </thead>\n",
       "  <tbody>\n",
       "    <tr>\n",
       "      <th>0</th>\n",
       "      <td>C00146845</td>\n",
       "      <td>N</td>\n",
       "      <td>MY</td>\n",
       "      <td>NaN</td>\n",
       "      <td>83012471866</td>\n",
       "      <td>15</td>\n",
       "      <td>NaN</td>\n",
       "      <td>ANDREWS, STEPHEN K</td>\n",
       "      <td>INDPLS</td>\n",
       "      <td>IN</td>\n",
       "      <td>...</td>\n",
       "      <td>ATTORNEY</td>\n",
       "      <td>NaN</td>\n",
       "      <td>1983-02-28</td>\n",
       "      <td>500.0</td>\n",
       "      <td>NaN</td>\n",
       "      <td>NaN</td>\n",
       "      <td>NaN</td>\n",
       "      <td>NaN</td>\n",
       "      <td>NaN</td>\n",
       "      <td>3061920110001124709</td>\n",
       "    </tr>\n",
       "    <tr>\n",
       "      <th>1</th>\n",
       "      <td>C00167973</td>\n",
       "      <td>A</td>\n",
       "      <td>MY</td>\n",
       "      <td>NaN</td>\n",
       "      <td>83012481756</td>\n",
       "      <td>15</td>\n",
       "      <td>NaN</td>\n",
       "      <td>ZARO, CHRISTOPHER</td>\n",
       "      <td>WAYNE</td>\n",
       "      <td>PA</td>\n",
       "      <td>...</td>\n",
       "      <td>REAL ESTATE DEVELOPER</td>\n",
       "      <td>NaN</td>\n",
       "      <td>1983-01-28</td>\n",
       "      <td>500.0</td>\n",
       "      <td>NaN</td>\n",
       "      <td>NaN</td>\n",
       "      <td>NaN</td>\n",
       "      <td>NaN</td>\n",
       "      <td>NaN</td>\n",
       "      <td>3061920110001112098</td>\n",
       "    </tr>\n",
       "    <tr>\n",
       "      <th>2</th>\n",
       "      <td>C00167973</td>\n",
       "      <td>A</td>\n",
       "      <td>MY</td>\n",
       "      <td>NaN</td>\n",
       "      <td>83012481756</td>\n",
       "      <td>15</td>\n",
       "      <td>NaN</td>\n",
       "      <td>KOPROWSKI, CHRISTOPHER D MD</td>\n",
       "      <td>HAVERTOWN</td>\n",
       "      <td>PA</td>\n",
       "      <td>...</td>\n",
       "      <td>SELF-EMPLOYED</td>\n",
       "      <td>NaN</td>\n",
       "      <td>1983-06-29</td>\n",
       "      <td>1000.0</td>\n",
       "      <td>NaN</td>\n",
       "      <td>NaN</td>\n",
       "      <td>NaN</td>\n",
       "      <td>NaN</td>\n",
       "      <td>NaN</td>\n",
       "      <td>3061920110001112099</td>\n",
       "    </tr>\n",
       "    <tr>\n",
       "      <th>3</th>\n",
       "      <td>C00167973</td>\n",
       "      <td>A</td>\n",
       "      <td>MY</td>\n",
       "      <td>NaN</td>\n",
       "      <td>83012481756</td>\n",
       "      <td>15</td>\n",
       "      <td>NaN</td>\n",
       "      <td>KOPROWSKI, MARY MCLAUGHLIN MD</td>\n",
       "      <td>HAVERTOWN</td>\n",
       "      <td>PA</td>\n",
       "      <td>...</td>\n",
       "      <td>PHYSICIAN</td>\n",
       "      <td>NaN</td>\n",
       "      <td>1983-06-29</td>\n",
       "      <td>1000.0</td>\n",
       "      <td>NaN</td>\n",
       "      <td>NaN</td>\n",
       "      <td>NaN</td>\n",
       "      <td>NaN</td>\n",
       "      <td>NaN</td>\n",
       "      <td>3061920110001112100</td>\n",
       "    </tr>\n",
       "    <tr>\n",
       "      <th>4</th>\n",
       "      <td>C00167973</td>\n",
       "      <td>A</td>\n",
       "      <td>MY</td>\n",
       "      <td>NaN</td>\n",
       "      <td>83012481757</td>\n",
       "      <td>15C</td>\n",
       "      <td>NaN</td>\n",
       "      <td>PETERS, FREDERICK C II</td>\n",
       "      <td>NaN</td>\n",
       "      <td>NaN</td>\n",
       "      <td>...</td>\n",
       "      <td>NaN</td>\n",
       "      <td>NaN</td>\n",
       "      <td>1983-01-03</td>\n",
       "      <td>500.0</td>\n",
       "      <td>H4PA07019</td>\n",
       "      <td>NaN</td>\n",
       "      <td>NaN</td>\n",
       "      <td>NaN</td>\n",
       "      <td>NaN</td>\n",
       "      <td>3061920110001112101</td>\n",
       "    </tr>\n",
       "  </tbody>\n",
       "</table>\n",
       "<p>5 rows × 21 columns</p>\n",
       "</div>"
      ],
      "text/plain": [
       "     CMTE_ID AMNDT_IND RPT_TP TRANSACTION_PGI    IMAGE_NUM TRANSACTION_TP  \\\n",
       "0  C00146845         N     MY             NaN  83012471866             15   \n",
       "1  C00167973         A     MY             NaN  83012481756             15   \n",
       "2  C00167973         A     MY             NaN  83012481756             15   \n",
       "3  C00167973         A     MY             NaN  83012481756             15   \n",
       "4  C00167973         A     MY             NaN  83012481757            15C   \n",
       "\n",
       "  ENTITY_TP                           NAME       CITY STATE  ...  \\\n",
       "0       NaN             ANDREWS, STEPHEN K     INDPLS    IN  ...   \n",
       "1       NaN              ZARO, CHRISTOPHER      WAYNE    PA  ...   \n",
       "2       NaN    KOPROWSKI, CHRISTOPHER D MD  HAVERTOWN    PA  ...   \n",
       "3       NaN  KOPROWSKI, MARY MCLAUGHLIN MD  HAVERTOWN    PA  ...   \n",
       "4       NaN         PETERS, FREDERICK C II        NaN   NaN  ...   \n",
       "\n",
       "                EMPLOYER OCCUPATION TRANSACTION_DT TRANSACTION_AMT   OTHER_ID  \\\n",
       "0               ATTORNEY        NaN     1983-02-28           500.0        NaN   \n",
       "1  REAL ESTATE DEVELOPER        NaN     1983-01-28           500.0        NaN   \n",
       "2          SELF-EMPLOYED        NaN     1983-06-29          1000.0        NaN   \n",
       "3              PHYSICIAN        NaN     1983-06-29          1000.0        NaN   \n",
       "4                    NaN        NaN     1983-01-03           500.0  H4PA07019   \n",
       "\n",
       "  TRAN_ID FILE_NUM MEMO_CD MEMO_TEXT               SUB_ID  \n",
       "0     NaN      NaN     NaN       NaN  3061920110001124709  \n",
       "1     NaN      NaN     NaN       NaN  3061920110001112098  \n",
       "2     NaN      NaN     NaN       NaN  3061920110001112099  \n",
       "3     NaN      NaN     NaN       NaN  3061920110001112100  \n",
       "4     NaN      NaN     NaN       NaN  3061920110001112101  \n",
       "\n",
       "[5 rows x 21 columns]"
      ]
     },
     "execution_count": 57,
     "metadata": {},
     "output_type": "execute_result"
    }
   ],
   "source": [
    "myDF.head()"
   ]
  },
  {
   "cell_type": "markdown",
   "id": "b456e57c-4a12-464b-999a-ef2df5af80c1",
   "metadata": {},
   "source": [
    "Part(a): Tried 1980, 1982, 1984. \n",
    "Part(b): Read in the data properly and added the column headers and other things mentioned in the problem statement\n",
    "Part(c): Yes the data that I tried does in fact make sense. \n",
    "Part(d): Yes I tried the data as well for all three years. "
   ]
  },
  {
   "cell_type": "markdown",
   "id": "fc601975-35ed-4680-a4e1-0273ee3cc047",
   "metadata": {},
   "source": [
    "## Question 2"
   ]
  },
  {
   "cell_type": "code",
   "execution_count": 21,
   "id": "a16336a1-1ef0-41e8-bc7c-49387db27497",
   "metadata": {},
   "outputs": [],
   "source": [
    "myyear = 1980"
   ]
  },
  {
   "cell_type": "code",
   "execution_count": 22,
   "id": "29b74287-15d0-4271-859c-1c1aa08c9597",
   "metadata": {},
   "outputs": [],
   "source": [
    "myDF = read_election_year(myyear)"
   ]
  },
  {
   "cell_type": "code",
   "execution_count": 24,
   "id": "4654d6ae-79eb-457a-8726-ae47a2afd117",
   "metadata": {},
   "outputs": [
    {
     "data": {
      "text/plain": [
       "3856"
      ]
     },
     "execution_count": 24,
     "metadata": {},
     "output_type": "execute_result"
    }
   ],
   "source": [
    "len(myDF['CMTE_ID'].unique())"
   ]
  },
  {
   "cell_type": "code",
   "execution_count": 25,
   "id": "c92d9a65-4eb3-4b13-8672-f05e1b044656",
   "metadata": {},
   "outputs": [],
   "source": [
    "myyear = 1984"
   ]
  },
  {
   "cell_type": "code",
   "execution_count": 26,
   "id": "df0bf2cd-b78a-4e8a-a895-6669cc23022d",
   "metadata": {},
   "outputs": [],
   "source": [
    "myDF = read_election_year(myyear)"
   ]
  },
  {
   "cell_type": "code",
   "execution_count": 27,
   "id": "9097c5aa-e657-470b-963c-74dcb599bf05",
   "metadata": {},
   "outputs": [
    {
     "data": {
      "text/plain": [
       "3733"
      ]
     },
     "execution_count": 27,
     "metadata": {},
     "output_type": "execute_result"
    }
   ],
   "source": [
    "len(myDF['CMTE_ID'].unique())"
   ]
  },
  {
   "cell_type": "code",
   "execution_count": 28,
   "id": "d50b3556-e3aa-4143-8092-1e5c4fcd7174",
   "metadata": {},
   "outputs": [],
   "source": [
    "myyear = 1988"
   ]
  },
  {
   "cell_type": "code",
   "execution_count": 29,
   "id": "16d23f87-07d9-4e51-8ad4-1e7746ab5e4c",
   "metadata": {},
   "outputs": [],
   "source": [
    "myDF = read_election_year(myyear)"
   ]
  },
  {
   "cell_type": "code",
   "execution_count": 30,
   "id": "8bcd7579-e931-4826-be7a-69620fe94574",
   "metadata": {},
   "outputs": [
    {
     "data": {
      "text/plain": [
       "3995"
      ]
     },
     "execution_count": 30,
     "metadata": {},
     "output_type": "execute_result"
    }
   ],
   "source": [
    "len(myDF['CMTE_ID'].unique())"
   ]
  },
  {
   "cell_type": "code",
   "execution_count": 87,
   "id": "f85820c4-2bfc-4cfd-8f9f-8963b5f6ea57",
   "metadata": {},
   "outputs": [],
   "source": [
    "def committees_function(myear: int) -> int:\n",
    "    \"\"\"\n",
    "    This functions accepts a 4-digit year as input, and returns the number of (unique) CMTE_ID value for that year. \n",
    "    \n",
    "    Args:\n",
    "    myyear (int): This is a 4-digit year for which we will find the number of (unique) CMTE_ID values in that year. \n",
    "    \n",
    "    Returns:\n",
    "    myresult (int): This is the number of (unique) CMTE_ID value in the specified year. \n",
    "    \"\"\"\n",
    "    myDF = read_election_year(myear)\n",
    "    myresult = len(myDF['CMTE_ID'].unique())\n",
    "    return myresult"
   ]
  },
  {
   "cell_type": "code",
   "execution_count": 88,
   "id": "2f410a01-b561-4225-b6f9-68a182d8a723",
   "metadata": {},
   "outputs": [
    {
     "data": {
      "text/plain": [
       "3856"
      ]
     },
     "execution_count": 88,
     "metadata": {},
     "output_type": "execute_result"
    }
   ],
   "source": [
    "committees_function(1980)"
   ]
  },
  {
   "cell_type": "code",
   "execution_count": 89,
   "id": "1eb9177a-8363-40e6-919f-1f900d8799e7",
   "metadata": {},
   "outputs": [
    {
     "data": {
      "text/plain": [
       "3733"
      ]
     },
     "execution_count": 89,
     "metadata": {},
     "output_type": "execute_result"
    }
   ],
   "source": [
    "committees_function(1984)"
   ]
  },
  {
   "cell_type": "code",
   "execution_count": 90,
   "id": "7924d0ff-457e-4b18-9df8-17cfcd0381a0",
   "metadata": {},
   "outputs": [
    {
     "data": {
      "text/plain": [
       "3995"
      ]
     },
     "execution_count": 90,
     "metadata": {},
     "output_type": "execute_result"
    }
   ],
   "source": [
    "committees_function(1988)"
   ]
  },
  {
   "cell_type": "markdown",
   "id": "8e586edd-ff26-4ce2-8f6b-2424b26f2929",
   "metadata": {},
   "source": [
    "## Question 3"
   ]
  },
  {
   "cell_type": "code",
   "execution_count": 116,
   "id": "bbe0f40d-9655-4653-9ca8-886bdb61cb91",
   "metadata": {},
   "outputs": [],
   "source": [
    "myDF = read_election_year(1980)"
   ]
  },
  {
   "cell_type": "code",
   "execution_count": 117,
   "id": "226cfa2e-4aeb-46da-8266-2f30e963585c",
   "metadata": {},
   "outputs": [
    {
     "data": {
      "text/plain": [
       "24085171.0"
      ]
     },
     "execution_count": 117,
     "metadata": {},
     "output_type": "execute_result"
    }
   ],
   "source": [
    "myDF[myDF['STATE'] == \"CA\"]['TRANSACTION_AMT'].sum() # This amount is reasonable in 1980, and it is shown that California contributed over 24 million dollars"
   ]
  },
  {
   "cell_type": "code",
   "execution_count": 118,
   "id": "0264c97b-f502-4ec1-bcc3-b8d993c90703",
   "metadata": {},
   "outputs": [
    {
     "data": {
      "text/plain": [
       "STATE\n",
       "TU         250.0\n",
       "BE         750.0\n",
       "CZ         950.0\n",
       "EL        1000.0\n",
       "AS        1500.0\n",
       "         ...    \n",
       "IL     9105545.0\n",
       "FL    10514203.0\n",
       "NY    18673301.0\n",
       "CA    24085171.0\n",
       "TX    24472610.0\n",
       "Name: TRANSACTION_AMT, Length: 61, dtype: float64"
      ]
     },
     "execution_count": 118,
     "metadata": {},
     "output_type": "execute_result"
    }
   ],
   "source": [
    "myDF.groupby('STATE')['TRANSACTION_AMT'].sum().sort_values() # The top 5 are the last 5"
   ]
  },
  {
   "cell_type": "code",
   "execution_count": 119,
   "id": "8dad5210-e5b6-47b8-bd57-348fc51b5117",
   "metadata": {},
   "outputs": [
    {
     "data": {
      "text/plain": [
       "STATE\n",
       "IL     9105545.0\n",
       "FL    10514203.0\n",
       "NY    18673301.0\n",
       "CA    24085171.0\n",
       "TX    24472610.0\n",
       "Name: TRANSACTION_AMT, dtype: float64"
      ]
     },
     "execution_count": 119,
     "metadata": {},
     "output_type": "execute_result"
    }
   ],
   "source": [
    "myDF.groupby('STATE')['TRANSACTION_AMT'].sum().sort_values().tail()"
   ]
  },
  {
   "cell_type": "code",
   "execution_count": 50,
   "id": "19274743-db29-47e2-a89d-34e60897d5e8",
   "metadata": {},
   "outputs": [],
   "source": [
    "myDF = read_election_year(1984)"
   ]
  },
  {
   "cell_type": "code",
   "execution_count": 51,
   "id": "8698bf68-de43-46e0-8a46-17fabc82e47a",
   "metadata": {},
   "outputs": [
    {
     "data": {
      "text/plain": [
       "29265671.0"
      ]
     },
     "execution_count": 51,
     "metadata": {},
     "output_type": "execute_result"
    }
   ],
   "source": [
    "myDF[myDF['STATE'] == \"CA\"]['TRANSACTION_AMT'].sum() # This amount is reasonable in 1980, and it is shown that California contributed over 24 million dollars"
   ]
  },
  {
   "cell_type": "code",
   "execution_count": 122,
   "id": "53d9ed94-c1f4-4c27-bd44-665473e3b88b",
   "metadata": {},
   "outputs": [
    {
     "data": {
      "text/plain": [
       "STATE\n",
       "ZA         165.0\n",
       "NT         500.0\n",
       "UK         500.0\n",
       "SZ         500.0\n",
       "KO         500.0\n",
       "         ...    \n",
       "IL    10034785.0\n",
       "FL    10985587.0\n",
       "NY    25947339.0\n",
       "CA    29265671.0\n",
       "TX    36044231.0\n",
       "Name: TRANSACTION_AMT, Length: 113, dtype: float64"
      ]
     },
     "execution_count": 122,
     "metadata": {},
     "output_type": "execute_result"
    }
   ],
   "source": [
    "myDF.groupby('STATE')['TRANSACTION_AMT'].sum().sort_values() # The top 5 are the last 5"
   ]
  },
  {
   "cell_type": "code",
   "execution_count": 123,
   "id": "46840868-692d-470f-af8a-e2c370d700a6",
   "metadata": {},
   "outputs": [
    {
     "data": {
      "text/plain": [
       "STATE\n",
       "IL    10034785.0\n",
       "FL    10985587.0\n",
       "NY    25947339.0\n",
       "CA    29265671.0\n",
       "TX    36044231.0\n",
       "Name: TRANSACTION_AMT, dtype: float64"
      ]
     },
     "execution_count": 123,
     "metadata": {},
     "output_type": "execute_result"
    }
   ],
   "source": [
    "myDF.groupby('STATE')['TRANSACTION_AMT'].sum().sort_values().tail()"
   ]
  },
  {
   "cell_type": "code",
   "execution_count": 124,
   "id": "ab48f4c8-b839-47a4-9a95-664a95f7a1c9",
   "metadata": {},
   "outputs": [],
   "source": [
    "myDF = read_election_year(1988)"
   ]
  },
  {
   "cell_type": "code",
   "execution_count": 125,
   "id": "7e577e41-7398-4bcb-b772-81f02250e5e6",
   "metadata": {},
   "outputs": [
    {
     "data": {
      "text/plain": [
       "60239357.0"
      ]
     },
     "execution_count": 125,
     "metadata": {},
     "output_type": "execute_result"
    }
   ],
   "source": [
    "myDF[myDF['STATE'] == \"CA\"]['TRANSACTION_AMT'].sum() # This amount is reasonable in 1980, and it is shown that California contributed over 24 million dollars"
   ]
  },
  {
   "cell_type": "code",
   "execution_count": 126,
   "id": "114bbb41-b4dc-4dc1-ada8-35bf4beb6eb9",
   "metadata": {},
   "outputs": [
    {
     "data": {
      "text/plain": [
       "STATE\n",
       "NJ    18934575.0\n",
       "FL    25373272.0\n",
       "TX    29076324.0\n",
       "NY    49898456.0\n",
       "CA    60239357.0\n",
       "Name: TRANSACTION_AMT, dtype: float64"
      ]
     },
     "execution_count": 126,
     "metadata": {},
     "output_type": "execute_result"
    }
   ],
   "source": [
    "myDF.groupby('STATE')['TRANSACTION_AMT'].sum().sort_values().tail()"
   ]
  },
  {
   "cell_type": "code",
   "execution_count": 130,
   "id": "b325478c-cf68-4b5d-81e4-c4d14b35ffd2",
   "metadata": {},
   "outputs": [],
   "source": [
    "def top_five_states (myyear: int) -> pd.DataFrame:\n",
    "    \"\"\"\n",
    "    This function accepts a 4-digit year as an input, and returns a data frame that contains information about transaction amount for the top 5 states.\n",
    "    \n",
    "    Args:\n",
    "    myyear (int): This is a 4 digit year for which we will load a data frame to be returned.\n",
    "    \n",
    "    Returns:\n",
    "    myDF (pd.DataFrame): This is the data frame that contains the information about the trasnaction amounts for the top 5 states.\n",
    "    \"\"\"\n",
    "    myDF = read_election_year(myyear)\n",
    "    myDF[myDF['STATE'] == \"NY\"]['TRANSACTION_AMT'].sum() \n",
    "    newDF = myDF.groupby('STATE')['TRANSACTION_AMT'].sum().sort_values().tail()\n",
    "    return newDF"
   ]
  },
  {
   "cell_type": "code",
   "execution_count": 131,
   "id": "a60991b2-4408-45d6-b488-ee3e6fa851b2",
   "metadata": {},
   "outputs": [
    {
     "data": {
      "text/plain": [
       "STATE\n",
       "IL     9105545.0\n",
       "FL    10514203.0\n",
       "NY    18673301.0\n",
       "CA    24085171.0\n",
       "TX    24472610.0\n",
       "Name: TRANSACTION_AMT, dtype: float64"
      ]
     },
     "execution_count": 131,
     "metadata": {},
     "output_type": "execute_result"
    }
   ],
   "source": [
    "top_five_states(1980)"
   ]
  },
  {
   "cell_type": "code",
   "execution_count": 132,
   "id": "ccd19951-b825-4fed-b418-22ad6ec5bc37",
   "metadata": {},
   "outputs": [
    {
     "data": {
      "text/plain": [
       "STATE\n",
       "IL    10034785.0\n",
       "FL    10985587.0\n",
       "NY    25947339.0\n",
       "CA    29265671.0\n",
       "TX    36044231.0\n",
       "Name: TRANSACTION_AMT, dtype: float64"
      ]
     },
     "execution_count": 132,
     "metadata": {},
     "output_type": "execute_result"
    }
   ],
   "source": [
    "top_five_states(1984)"
   ]
  },
  {
   "cell_type": "code",
   "execution_count": 133,
   "id": "3226c642-300e-41c9-b857-f13d28d742b1",
   "metadata": {},
   "outputs": [
    {
     "data": {
      "text/plain": [
       "STATE\n",
       "NJ    18934575.0\n",
       "FL    25373272.0\n",
       "TX    29076324.0\n",
       "NY    49898456.0\n",
       "CA    60239357.0\n",
       "Name: TRANSACTION_AMT, dtype: float64"
      ]
     },
     "execution_count": 133,
     "metadata": {},
     "output_type": "execute_result"
    }
   ],
   "source": [
    "top_five_states(1988)"
   ]
  },
  {
   "cell_type": "markdown",
   "id": "47c6229f-35f7-400c-8366-c442baa5cf47",
   "metadata": {},
   "source": [
    "Markdown notes and sentences and analysis written here."
   ]
  },
  {
   "cell_type": "markdown",
   "id": "da22f29c-d245-4d2b-9fc1-ca14cb6087d9",
   "metadata": {},
   "source": [
    "## Question 4"
   ]
  },
  {
   "cell_type": "code",
   "execution_count": 4,
   "id": "8cffc767-d1c8-4d64-b7dc-f0d2ee8a80d1",
   "metadata": {},
   "outputs": [],
   "source": [
    "myDF = read_election_year(1980)"
   ]
  },
  {
   "cell_type": "code",
   "execution_count": 7,
   "id": "947c854c-1fa0-4a21-bbc8-283e2bfa7a7a",
   "metadata": {},
   "outputs": [
    {
     "data": {
      "text/plain": [
       "EMPLOYER\n",
       "HOUSE WIFE    4549216.0\n",
       "HOMEMAKER     4649872.0\n",
       "HOUSEWIFE     5457943.0\n",
       "ATTORNEY      5689870.0\n",
       "RETIRED       8565354.0\n",
       "Name: TRANSACTION_AMT, dtype: float64"
      ]
     },
     "execution_count": 7,
     "metadata": {},
     "output_type": "execute_result"
    }
   ],
   "source": [
    "myDF.groupby('EMPLOYER')['TRANSACTION_AMT'].sum().sort_values().tail()"
   ]
  },
  {
   "cell_type": "code",
   "execution_count": 8,
   "id": "2d7be817-63a3-4e27-8fb1-344b85389d34",
   "metadata": {},
   "outputs": [],
   "source": [
    "myDF = read_election_year(1984)"
   ]
  },
  {
   "cell_type": "code",
   "execution_count": 9,
   "id": "55f85269-0cbb-4aff-abd6-3f262c364934",
   "metadata": {},
   "outputs": [
    {
     "data": {
      "text/plain": [
       "EMPLOYER\n",
       "HOMEMAKER         3372784.0\n",
       "SELF EMPLOYED     3869043.0\n",
       "HOUSEWIFE         6313918.0\n",
       "RETIRED           9257779.0\n",
       "SELF-EMPLOYED    19761941.0\n",
       "Name: TRANSACTION_AMT, dtype: float64"
      ]
     },
     "execution_count": 9,
     "metadata": {},
     "output_type": "execute_result"
    }
   ],
   "source": [
    "myDF.groupby('EMPLOYER')['TRANSACTION_AMT'].sum().sort_values().tail()"
   ]
  },
  {
   "cell_type": "code",
   "execution_count": 10,
   "id": "b87bcb92-49c5-4b90-9203-f0fd84eb2f30",
   "metadata": {},
   "outputs": [],
   "source": [
    "myDF = read_election_year(1988)"
   ]
  },
  {
   "cell_type": "code",
   "execution_count": 11,
   "id": "1f5fbf91-250b-476e-b221-a7eaef670682",
   "metadata": {},
   "outputs": [
    {
     "data": {
      "text/plain": [
       "EMPLOYER\n",
       "PHYSICIAN     3104940.0\n",
       "RETIRED       5865073.0\n",
       "ATTORNEY      9488872.0\n",
       "HOMEMAKER     9834325.0\n",
       "HOUSEWIFE    14626839.0\n",
       "Name: TRANSACTION_AMT, dtype: float64"
      ]
     },
     "execution_count": 11,
     "metadata": {},
     "output_type": "execute_result"
    }
   ],
   "source": [
    "myDF.groupby('EMPLOYER')['TRANSACTION_AMT'].sum().sort_values().tail()"
   ]
  },
  {
   "cell_type": "code",
   "execution_count": 12,
   "id": "9752d4b7-b07b-4983-86d5-dbba9453cfe5",
   "metadata": {},
   "outputs": [],
   "source": [
    "def top_employers(myyear: int) -> pd.DataFrame:\n",
    "    \"\"\"\n",
    "    This function accepts a 4-digit year as an input, and returns a data frame that contains information about amount given to top 5 employers.\n",
    "    \n",
    "    Args:\n",
    "    myyear (int): This is a 4 digit year for which we will load a data frame to be returned.\n",
    "    \n",
    "    Returns:\n",
    "    myDF (pd.DataFrame): This is the data frame that contains the information about the amount of money given to top 5 employers\n",
    "    \"\"\"\n",
    "    myDF = read_election_year(myyear)\n",
    "    newDF = myDF.groupby('EMPLOYER')['TRANSACTION_AMT'].sum().sort_values().tail()\n",
    "    return newDF"
   ]
  },
  {
   "cell_type": "code",
   "execution_count": 13,
   "id": "b78563bf-e403-42c5-bea2-6538fd6238f6",
   "metadata": {},
   "outputs": [
    {
     "data": {
      "text/plain": [
       "EMPLOYER\n",
       "HOUSE WIFE    4549216.0\n",
       "HOMEMAKER     4649872.0\n",
       "HOUSEWIFE     5457943.0\n",
       "ATTORNEY      5689870.0\n",
       "RETIRED       8565354.0\n",
       "Name: TRANSACTION_AMT, dtype: float64"
      ]
     },
     "execution_count": 13,
     "metadata": {},
     "output_type": "execute_result"
    }
   ],
   "source": [
    "top_employers(1980)"
   ]
  },
  {
   "cell_type": "code",
   "execution_count": 14,
   "id": "ab87c6e4-e865-44ad-8585-b98c1fb11d1c",
   "metadata": {},
   "outputs": [
    {
     "data": {
      "text/plain": [
       "EMPLOYER\n",
       "HOMEMAKER         3372784.0\n",
       "SELF EMPLOYED     3869043.0\n",
       "HOUSEWIFE         6313918.0\n",
       "RETIRED           9257779.0\n",
       "SELF-EMPLOYED    19761941.0\n",
       "Name: TRANSACTION_AMT, dtype: float64"
      ]
     },
     "execution_count": 14,
     "metadata": {},
     "output_type": "execute_result"
    }
   ],
   "source": [
    "top_employers(1984)"
   ]
  },
  {
   "cell_type": "code",
   "execution_count": 15,
   "id": "1830f9d0-a1a6-4f55-aff0-e7644552330a",
   "metadata": {},
   "outputs": [
    {
     "data": {
      "text/plain": [
       "EMPLOYER\n",
       "PHYSICIAN     3104940.0\n",
       "RETIRED       5865073.0\n",
       "ATTORNEY      9488872.0\n",
       "HOMEMAKER     9834325.0\n",
       "HOUSEWIFE    14626839.0\n",
       "Name: TRANSACTION_AMT, dtype: float64"
      ]
     },
     "execution_count": 15,
     "metadata": {},
     "output_type": "execute_result"
    }
   ],
   "source": [
    "top_employers(1988)"
   ]
  },
  {
   "cell_type": "markdown",
   "id": "0d552245-b4d6-474a-9cc9-fa7b8e674d55",
   "metadata": {},
   "source": [
    "Markdown notes and sentences and analysis written here."
   ]
  },
  {
   "cell_type": "markdown",
   "id": "88c9cdac-3e92-498f-83fa-e089bfc44ac8",
   "metadata": {},
   "source": [
    "## Question 5"
   ]
  },
  {
   "cell_type": "code",
   "execution_count": 52,
   "id": "d370d7c9-06db-42b9-b75f-240481a5c491",
   "metadata": {},
   "outputs": [],
   "source": [
    "myDF = read_election_year(1980)"
   ]
  },
  {
   "cell_type": "code",
   "execution_count": 53,
   "id": "84481faf-195a-4ff3-9556-ec1a7b2c398e",
   "metadata": {},
   "outputs": [
    {
     "data": {
      "text/plain": [
       "0     400.0\n",
       "1    1500.0\n",
       "2     300.0\n",
       "3    1000.0\n",
       "4     200.0\n",
       "5     200.0\n",
       "6     200.0\n",
       "7     300.0\n",
       "8     200.0\n",
       "9     200.0\n",
       "Name: TRANSACTION_AMT, dtype: float64"
      ]
     },
     "execution_count": 53,
     "metadata": {},
     "output_type": "execute_result"
    }
   ],
   "source": [
    "myDF['TRANSACTION_AMT'][0:10]"
   ]
  },
  {
   "cell_type": "code",
   "execution_count": 28,
   "id": "830b90a9-aaa4-44d9-8656-54dfe672acc0",
   "metadata": {},
   "outputs": [
    {
     "data": {
      "text/plain": [
       "0     400.0\n",
       "1    1500.0\n",
       "2     300.0\n",
       "3    1000.0\n",
       "4     200.0\n",
       "Name: TRANSACTION_AMT, dtype: float64"
      ]
     },
     "execution_count": 28,
     "metadata": {},
     "output_type": "execute_result"
    }
   ],
   "source": [
    "myDF['TRANSACTION_AMT'].head()"
   ]
  },
  {
   "cell_type": "code",
   "execution_count": 37,
   "id": "ea7ee270-dea5-4b82-b2e3-021e0e072f91",
   "metadata": {},
   "outputs": [
    {
     "data": {
      "text/plain": [
       "204280929.0"
      ]
     },
     "execution_count": 37,
     "metadata": {},
     "output_type": "execute_result"
    }
   ],
   "source": [
    "myDF['TRANSACTION_AMT'].sum()"
   ]
  },
  {
   "cell_type": "code",
   "execution_count": 40,
   "id": "7cce7939-c6be-45a1-9de0-821fd2c178bd",
   "metadata": {},
   "outputs": [
    {
     "data": {
      "text/plain": [
       "NAME\n",
       "MITCHELL, LOUIS S      -4567.0\n",
       "RITTER, LOUIS          -3000.0\n",
       "WILLIAMS, JACK T 2ND   -2000.0\n",
       "NEWMAN, PHIL           -2000.0\n",
       "NEWMAN, RUTHIS         -2000.0\n",
       "Name: TRANSACTION_AMT, dtype: float64"
      ]
     },
     "execution_count": 40,
     "metadata": {},
     "output_type": "execute_result"
    }
   ],
   "source": [
    "myDF.groupby('NAME')['TRANSACTION_AMT'].sum().sort_values().head()"
   ]
  },
  {
   "cell_type": "code",
   "execution_count": 42,
   "id": "1d23e338-35c4-4516-b124-1d1530d4a906",
   "metadata": {},
   "outputs": [
    {
     "data": {
      "text/plain": [
       "NAME\n",
       "MACKAY, KENNETH H JR                            527329.0\n",
       "STONER, TOM                                     901381.0\n",
       "AMERICAN MEDICAL POLITICAL ACTION COMMITTEE    1300341.0\n",
       "KOCH, DAVID HAMILTON                           1675300.0\n",
       "STEVENS, EARL VERN BLACKJACK                   6500000.0\n",
       "Name: TRANSACTION_AMT, dtype: float64"
      ]
     },
     "execution_count": 42,
     "metadata": {},
     "output_type": "execute_result"
    }
   ],
   "source": [
    "myDF.groupby('NAME')['TRANSACTION_AMT'].sum().sort_values().tail()"
   ]
  },
  {
   "cell_type": "code",
   "execution_count": 43,
   "id": "da9d747a-a6c1-454d-9693-ecb5621b0fbc",
   "metadata": {},
   "outputs": [],
   "source": [
    "myDF = read_election_year(1984)"
   ]
  },
  {
   "cell_type": "code",
   "execution_count": 44,
   "id": "16c9041d-805e-44e0-9dab-2c2e77695071",
   "metadata": {},
   "outputs": [
    {
     "data": {
      "text/plain": [
       "NAME\n",
       "LEVIN, ADAM K                                               864741.0\n",
       "DAYTON, MARK B                                             1309474.0\n",
       "MOSBACHER, ROB                                             1447800.0\n",
       "SHAMIE, RAYMOND                                            1570241.0\n",
       "AMERICAN MEDICAL ASSOCIATION POLITICAL ACTION COMMITTEE    2171333.0\n",
       "Name: TRANSACTION_AMT, dtype: float64"
      ]
     },
     "execution_count": 44,
     "metadata": {},
     "output_type": "execute_result"
    }
   ],
   "source": [
    "myDF.groupby('NAME')['TRANSACTION_AMT'].sum().sort_values().tail()"
   ]
  },
  {
   "cell_type": "code",
   "execution_count": 45,
   "id": "9461703c-d5a0-4feb-96bc-9790235bf489",
   "metadata": {},
   "outputs": [],
   "source": [
    "myDF = read_election_year(1988)"
   ]
  },
  {
   "cell_type": "code",
   "execution_count": 46,
   "id": "ef160abe-aa3f-447b-a4a3-8486b53704ab",
   "metadata": {},
   "outputs": [
    {
     "data": {
      "text/plain": [
       "NAME\n",
       "TEXAS MEDICAL ASSOCIATION POLITICAL ACTION COMMITTEE-TEXPAC     486555.0\n",
       "FRIENDS OF PAUL TRIBLE                                          627008.0\n",
       "NATIONAL REPUBLICAN CONGRESSIONAL COMMITTEE CONTRIBUTIONS       652346.0\n",
       "CALIFORNIA MEDICAL POLITICAL ACTION COMMITTEE                   705110.0\n",
       "NATIONAL REPUBLICAN SENATORIAL COMMITTEE - CONTRIBUTIONS *     1602947.0\n",
       "Name: TRANSACTION_AMT, dtype: float64"
      ]
     },
     "execution_count": 46,
     "metadata": {},
     "output_type": "execute_result"
    }
   ],
   "source": [
    "myDF.groupby('NAME')['TRANSACTION_AMT'].sum().sort_values().tail()"
   ]
  },
  {
   "cell_type": "code",
   "execution_count": 41,
   "id": "e466209f-7db0-401b-84a7-05847d419af4",
   "metadata": {},
   "outputs": [],
   "source": [
    "def most_popular_names_or_organizations(myyear: int) -> pd.DataFrame:\n",
    "    \"\"\"\n",
    "    This function accepts a 4-digit year as an input, and returns a data frame that contains information about the most popular names or organizations given how much they gave.\n",
    "    \n",
    "    Args:\n",
    "    myyear (int): This is a 4 digit year for which we will load a data frame to be returned.\n",
    "    \n",
    "    Returns:\n",
    "    myDF (pd.DataFrame): This is the data frame that contains the information about the most popular names or organizations given how much they gave.\n",
    "    \"\"\"\n",
    "    myDF = read_election_year(myyear)\n",
    "    newDF = myDF.groupby('NAME')['TRANSACTION_AMT'].sum().sort_values().tail()\n",
    "    return newDF"
   ]
  },
  {
   "cell_type": "code",
   "execution_count": 47,
   "id": "db1941ff-4e5d-4edf-9617-a26d32e60453",
   "metadata": {},
   "outputs": [
    {
     "data": {
      "text/plain": [
       "NAME\n",
       "MACKAY, KENNETH H JR                            527329.0\n",
       "STONER, TOM                                     901381.0\n",
       "AMERICAN MEDICAL POLITICAL ACTION COMMITTEE    1300341.0\n",
       "KOCH, DAVID HAMILTON                           1675300.0\n",
       "STEVENS, EARL VERN BLACKJACK                   6500000.0\n",
       "Name: TRANSACTION_AMT, dtype: float64"
      ]
     },
     "execution_count": 47,
     "metadata": {},
     "output_type": "execute_result"
    }
   ],
   "source": [
    "most_popular_names_or_organizations(1980)"
   ]
  },
  {
   "cell_type": "code",
   "execution_count": 48,
   "id": "23763e13-58d5-45a2-ac47-d074f67bdd95",
   "metadata": {},
   "outputs": [
    {
     "data": {
      "text/plain": [
       "NAME\n",
       "LEVIN, ADAM K                                               864741.0\n",
       "DAYTON, MARK B                                             1309474.0\n",
       "MOSBACHER, ROB                                             1447800.0\n",
       "SHAMIE, RAYMOND                                            1570241.0\n",
       "AMERICAN MEDICAL ASSOCIATION POLITICAL ACTION COMMITTEE    2171333.0\n",
       "Name: TRANSACTION_AMT, dtype: float64"
      ]
     },
     "execution_count": 48,
     "metadata": {},
     "output_type": "execute_result"
    }
   ],
   "source": [
    "most_popular_names_or_organizations(1984)"
   ]
  },
  {
   "cell_type": "code",
   "execution_count": 49,
   "id": "2a593b0b-199f-45c1-8a54-2fe27a65d28f",
   "metadata": {},
   "outputs": [
    {
     "data": {
      "text/plain": [
       "NAME\n",
       "TEXAS MEDICAL ASSOCIATION POLITICAL ACTION COMMITTEE-TEXPAC     486555.0\n",
       "FRIENDS OF PAUL TRIBLE                                          627008.0\n",
       "NATIONAL REPUBLICAN CONGRESSIONAL COMMITTEE CONTRIBUTIONS       652346.0\n",
       "CALIFORNIA MEDICAL POLITICAL ACTION COMMITTEE                   705110.0\n",
       "NATIONAL REPUBLICAN SENATORIAL COMMITTEE - CONTRIBUTIONS *     1602947.0\n",
       "Name: TRANSACTION_AMT, dtype: float64"
      ]
     },
     "execution_count": 49,
     "metadata": {},
     "output_type": "execute_result"
    }
   ],
   "source": [
    "most_popular_names_or_organizations(1988)"
   ]
  },
  {
   "cell_type": "markdown",
   "id": "9fbf00fb-2418-460f-ae94-2a32b0c28952",
   "metadata": {},
   "source": [
    "Markdown notes and sentences and analysis written here."
   ]
  },
  {
   "cell_type": "markdown",
   "id": "f76442d6-d02e-4f26-b9d6-c3183e1d6929",
   "metadata": {},
   "source": [
    "## Pledge\n",
    "\n",
    "By submitting this work I hereby pledge that this is my own, personal work. I've acknowledged in the designated place at the top of this file all sources that I used to complete said work, including but not limited to: online resources, books, and electronic communications. I've noted all collaboration with fellow students and/or TA's. I did not copy or plagiarize another's work.\n",
    "\n",
    "> As a Boilermaker pursuing academic excellence, I pledge to be honest and true in all that I do. Accountable together – We are Purdue."
   ]
  }
 ],
 "metadata": {
  "kernelspec": {
   "display_name": "seminar",
   "language": "python",
   "name": "seminar"
  },
  "language_info": {
   "codemirror_mode": {
    "name": "ipython",
    "version": 3
   },
   "file_extension": ".py",
   "mimetype": "text/x-python",
   "name": "python",
   "nbconvert_exporter": "python",
   "pygments_lexer": "ipython3",
   "version": "3.11.5"
  }
 },
 "nbformat": 4,
 "nbformat_minor": 5
}
