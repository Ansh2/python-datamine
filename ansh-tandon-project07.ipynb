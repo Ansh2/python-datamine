{
 "cells": [
  {
   "cell_type": "markdown",
   "id": "be02a957-7133-4d02-818e-fedeb3cecb05",
   "metadata": {},
   "source": [
    "# Project 07 -- Ansh Tandon"
   ]
  },
  {
   "cell_type": "markdown",
   "id": "a1228853-dd19-4ab2-89e0-0394d7d72de3",
   "metadata": {},
   "source": [
    "**TA Help:** John Smith, Alice Jones\n",
    "\n",
    "- Help with figuring out how to write a function.\n",
    "    \n",
    "**Collaboration:** Friend1, Friend2\n",
    "    \n",
    "- Helped figuring out how to load the dataset.\n",
    "- Helped debug error with my plot."
   ]
  },
  {
   "cell_type": "markdown",
   "id": "6180e742-8e39-4698-98ff-5b00c8cf8ea0",
   "metadata": {},
   "source": [
    "## Question 1"
   ]
  },
  {
   "cell_type": "code",
   "execution_count": 1,
   "id": "49445606-d363-41b4-b479-e319a9a84c01",
   "metadata": {},
   "outputs": [],
   "source": [
    "import pandas as pd"
   ]
  },
  {
   "cell_type": "code",
   "execution_count": 29,
   "id": "3d829167-3d80-43f9-9423-aed8c5776ce5",
   "metadata": {},
   "outputs": [],
   "source": [
    "myyear = 1880"
   ]
  },
  {
   "cell_type": "code",
   "execution_count": 30,
   "id": "e8f97ecc-4e00-4767-8d05-c6d2c8cdaa25",
   "metadata": {},
   "outputs": [],
   "source": [
    "myDF = pd.read_csv(f'/anvil/projects/tdm/data/noaa/{myyear}.csv', header=None, names=[\"id\",\"date\",\"element_code\",\"value\",\"mflag\",\"qflag\",\"sflag\",\"obstime\"])"
   ]
  },
  {
   "cell_type": "code",
   "execution_count": 31,
   "id": "ceda3dbf-371d-4689-8419-4b6359176e5b",
   "metadata": {},
   "outputs": [
    {
     "data": {
      "text/plain": [
       "(370779, 8)"
      ]
     },
     "execution_count": 31,
     "metadata": {},
     "output_type": "execute_result"
    }
   ],
   "source": [
    "myDF.shape"
   ]
  },
  {
   "cell_type": "code",
   "execution_count": 32,
   "id": "5a459307-20e6-40a3-8548-f83bdbfc3c31",
   "metadata": {},
   "outputs": [],
   "source": [
    "us_records = myDF[myDF['id'].str.startswith('US')]"
   ]
  },
  {
   "cell_type": "code",
   "execution_count": 33,
   "id": "11fec63e-7056-446b-944f-81f5fda49c21",
   "metadata": {},
   "outputs": [
    {
     "data": {
      "text/plain": [
       "(48428, 8)"
      ]
     },
     "execution_count": 33,
     "metadata": {},
     "output_type": "execute_result"
    }
   ],
   "source": [
    "us_records.shape"
   ]
  },
  {
   "cell_type": "code",
   "execution_count": 34,
   "id": "1a6d017a-15b1-4c66-99b2-688c4ac34007",
   "metadata": {},
   "outputs": [
    {
     "data": {
      "text/html": [
       "<div>\n",
       "<style scoped>\n",
       "    .dataframe tbody tr th:only-of-type {\n",
       "        vertical-align: middle;\n",
       "    }\n",
       "\n",
       "    .dataframe tbody tr th {\n",
       "        vertical-align: top;\n",
       "    }\n",
       "\n",
       "    .dataframe thead th {\n",
       "        text-align: right;\n",
       "    }\n",
       "</style>\n",
       "<table border=\"1\" class=\"dataframe\">\n",
       "  <thead>\n",
       "    <tr style=\"text-align: right;\">\n",
       "      <th></th>\n",
       "      <th>id</th>\n",
       "      <th>date</th>\n",
       "      <th>element_code</th>\n",
       "      <th>value</th>\n",
       "      <th>mflag</th>\n",
       "      <th>qflag</th>\n",
       "      <th>sflag</th>\n",
       "      <th>obstime</th>\n",
       "    </tr>\n",
       "  </thead>\n",
       "  <tbody>\n",
       "    <tr>\n",
       "      <th>858</th>\n",
       "      <td>USC00015555</td>\n",
       "      <td>18800101</td>\n",
       "      <td>TMAX</td>\n",
       "      <td>222</td>\n",
       "      <td>NaN</td>\n",
       "      <td>NaN</td>\n",
       "      <td>0</td>\n",
       "      <td>NaN</td>\n",
       "    </tr>\n",
       "    <tr>\n",
       "      <th>859</th>\n",
       "      <td>USC00015555</td>\n",
       "      <td>18800101</td>\n",
       "      <td>TMIN</td>\n",
       "      <td>106</td>\n",
       "      <td>NaN</td>\n",
       "      <td>NaN</td>\n",
       "      <td>0</td>\n",
       "      <td>NaN</td>\n",
       "    </tr>\n",
       "    <tr>\n",
       "      <th>860</th>\n",
       "      <td>USC00015555</td>\n",
       "      <td>18800101</td>\n",
       "      <td>PRCP</td>\n",
       "      <td>13</td>\n",
       "      <td>NaN</td>\n",
       "      <td>NaN</td>\n",
       "      <td>0</td>\n",
       "      <td>NaN</td>\n",
       "    </tr>\n",
       "    <tr>\n",
       "      <th>861</th>\n",
       "      <td>USC00015555</td>\n",
       "      <td>18800101</td>\n",
       "      <td>SNOW</td>\n",
       "      <td>0</td>\n",
       "      <td>NaN</td>\n",
       "      <td>NaN</td>\n",
       "      <td>0</td>\n",
       "      <td>NaN</td>\n",
       "    </tr>\n",
       "    <tr>\n",
       "      <th>862</th>\n",
       "      <td>USC00023096</td>\n",
       "      <td>18800101</td>\n",
       "      <td>PRCP</td>\n",
       "      <td>0</td>\n",
       "      <td>NaN</td>\n",
       "      <td>NaN</td>\n",
       "      <td>F</td>\n",
       "      <td>NaN</td>\n",
       "    </tr>\n",
       "  </tbody>\n",
       "</table>\n",
       "</div>"
      ],
      "text/plain": [
       "              id      date element_code  value mflag qflag sflag  obstime\n",
       "858  USC00015555  18800101         TMAX    222   NaN   NaN     0      NaN\n",
       "859  USC00015555  18800101         TMIN    106   NaN   NaN     0      NaN\n",
       "860  USC00015555  18800101         PRCP     13   NaN   NaN     0      NaN\n",
       "861  USC00015555  18800101         SNOW      0   NaN   NaN     0      NaN\n",
       "862  USC00023096  18800101         PRCP      0   NaN   NaN     F      NaN"
      ]
     },
     "execution_count": 34,
     "metadata": {},
     "output_type": "execute_result"
    }
   ],
   "source": [
    "us_records.head()"
   ]
  },
  {
   "cell_type": "code",
   "execution_count": 35,
   "id": "f0b2bd92-f86b-44f8-a174-8b6d44c2250a",
   "metadata": {},
   "outputs": [],
   "source": [
    "myyear = 1881"
   ]
  },
  {
   "cell_type": "code",
   "execution_count": 36,
   "id": "8d636260-59e7-4b4b-9ce7-5c315f55aa20",
   "metadata": {},
   "outputs": [],
   "source": [
    "myDF = pd.read_csv(f'/anvil/projects/tdm/data/noaa/{myyear}.csv', names=[\"id\",\"date\",\"element_code\",\"value\",\"mflag\",\"qflag\",\"sflag\",\"obstime\"], header=None)"
   ]
  },
  {
   "cell_type": "code",
   "execution_count": 37,
   "id": "459271ea-1f39-48f4-b858-f4c2dfc4a78a",
   "metadata": {},
   "outputs": [],
   "source": [
    "us_records = myDF[myDF['id'].str.startswith('US')]"
   ]
  },
  {
   "cell_type": "code",
   "execution_count": 38,
   "id": "a62ee047-54fd-4b53-8143-fc05468041f6",
   "metadata": {},
   "outputs": [
    {
     "data": {
      "text/plain": [
       "(48196, 8)"
      ]
     },
     "execution_count": 38,
     "metadata": {},
     "output_type": "execute_result"
    }
   ],
   "source": [
    "us_records.shape"
   ]
  },
  {
   "cell_type": "code",
   "execution_count": 39,
   "id": "8983fbdd-cd80-43ef-8dcd-95ff5f05e4a8",
   "metadata": {},
   "outputs": [],
   "source": [
    "myyear = 1882"
   ]
  },
  {
   "cell_type": "code",
   "execution_count": 40,
   "id": "546bef71-5f5c-4bf3-b013-902519c7ded3",
   "metadata": {},
   "outputs": [],
   "source": [
    "myDF = pd.read_csv(f'/anvil/projects/tdm/data/noaa/{myyear}.csv', names=[\"id\",\"date\",\"element_code\",\"value\",\"mflag\",\"qflag\",\"sflag\",\"obstime\"], header=None)"
   ]
  },
  {
   "cell_type": "code",
   "execution_count": 41,
   "id": "cc8bdc94-1c56-4217-9021-7d29c4d4f8b1",
   "metadata": {},
   "outputs": [],
   "source": [
    "us_records = myDF[myDF['id'].str.startswith('US')]"
   ]
  },
  {
   "cell_type": "code",
   "execution_count": 42,
   "id": "830f4c19-078f-4b55-8c2c-81e770dd24e8",
   "metadata": {},
   "outputs": [
    {
     "data": {
      "text/plain": [
       "(50664, 8)"
      ]
     },
     "execution_count": 42,
     "metadata": {},
     "output_type": "execute_result"
    }
   ],
   "source": [
    "us_records.shape"
   ]
  },
  {
   "cell_type": "code",
   "execution_count": 43,
   "id": "93782166-e5ff-4cd3-87b6-c2c2360a62d1",
   "metadata": {},
   "outputs": [],
   "source": [
    "myyear = 1883"
   ]
  },
  {
   "cell_type": "code",
   "execution_count": 44,
   "id": "18179a91-1aba-4650-9f9f-5fe1c5997efe",
   "metadata": {},
   "outputs": [],
   "source": [
    "myDF = pd.read_csv(f'/anvil/projects/tdm/data/noaa/{myyear}.csv', names=[\"id\",\"date\",\"element_code\",\"value\",\"mflag\",\"qflag\",\"sflag\",\"obstime\"], header=None)"
   ]
  },
  {
   "cell_type": "code",
   "execution_count": 45,
   "id": "e557ccad-27f2-4dfb-b50a-3373a0db7772",
   "metadata": {},
   "outputs": [],
   "source": [
    "us_records = myDF[myDF['id'].str.startswith('US')]"
   ]
  },
  {
   "cell_type": "code",
   "execution_count": 46,
   "id": "4631f976-4c5d-42df-95c5-77eff537d24d",
   "metadata": {},
   "outputs": [
    {
     "data": {
      "text/plain": [
       "(52363, 8)"
      ]
     },
     "execution_count": 46,
     "metadata": {},
     "output_type": "execute_result"
    }
   ],
   "source": [
    "us_records.shape"
   ]
  },
  {
   "cell_type": "code",
   "execution_count": 47,
   "id": "d90cd018-3cc1-4f82-9aa0-5e90dad9588c",
   "metadata": {},
   "outputs": [],
   "source": [
    "def get_noaa_data (myyear: int) -> pd.DataFrame:\n",
    "    \"\"\"\n",
    "    This function accepts a 4-digit year as input, and returns a data frame that contains the NOAA data for that year\n",
    "\n",
    "    Args:\n",
    "    myyear (int): This is a 4-digit year for which we will load a data frame to be returned.\n",
    "\n",
    "    Returns:\n",
    "    myDF (pd.DataFrame): This is the data frame that contains the NOAA data for that year\n",
    "    \"\"\"\n",
    "    myfilepath = f'/anvil/projects/tdm/data/noaa/{myyear}.csv'\n",
    "    mycolumnnames=[\"id\",\"date\",\"element_code\",\"value\",\"mflag\",\"qflag\",\"sflag\",\"obstime\"]\n",
    "    myDF = pd.read_csv(myfilepath, names=mycolumnnames)\n",
    "    myDF['date'] = pd.to_datetime(myDF['date'], format=\"%Y%m%d\")\n",
    "    return myDF"
   ]
  },
  {
   "cell_type": "code",
   "execution_count": 48,
   "id": "866533eb-398e-46d3-9840-8220c020b51d",
   "metadata": {},
   "outputs": [
    {
     "data": {
      "text/html": [
       "<div>\n",
       "<style scoped>\n",
       "    .dataframe tbody tr th:only-of-type {\n",
       "        vertical-align: middle;\n",
       "    }\n",
       "\n",
       "    .dataframe tbody tr th {\n",
       "        vertical-align: top;\n",
       "    }\n",
       "\n",
       "    .dataframe thead th {\n",
       "        text-align: right;\n",
       "    }\n",
       "</style>\n",
       "<table border=\"1\" class=\"dataframe\">\n",
       "  <thead>\n",
       "    <tr style=\"text-align: right;\">\n",
       "      <th></th>\n",
       "      <th>id</th>\n",
       "      <th>date</th>\n",
       "      <th>element_code</th>\n",
       "      <th>value</th>\n",
       "      <th>mflag</th>\n",
       "      <th>qflag</th>\n",
       "      <th>sflag</th>\n",
       "      <th>obstime</th>\n",
       "    </tr>\n",
       "  </thead>\n",
       "  <tbody>\n",
       "    <tr>\n",
       "      <th>0</th>\n",
       "      <td>AGE00147705</td>\n",
       "      <td>1880-01-01</td>\n",
       "      <td>PRCP</td>\n",
       "      <td>0</td>\n",
       "      <td>NaN</td>\n",
       "      <td>NaN</td>\n",
       "      <td>E</td>\n",
       "      <td>NaN</td>\n",
       "    </tr>\n",
       "    <tr>\n",
       "      <th>1</th>\n",
       "      <td>AGE00147708</td>\n",
       "      <td>1880-01-01</td>\n",
       "      <td>PRCP</td>\n",
       "      <td>36</td>\n",
       "      <td>NaN</td>\n",
       "      <td>NaN</td>\n",
       "      <td>E</td>\n",
       "      <td>NaN</td>\n",
       "    </tr>\n",
       "    <tr>\n",
       "      <th>2</th>\n",
       "      <td>AGE00147709</td>\n",
       "      <td>1880-01-01</td>\n",
       "      <td>PRCP</td>\n",
       "      <td>36</td>\n",
       "      <td>NaN</td>\n",
       "      <td>NaN</td>\n",
       "      <td>E</td>\n",
       "      <td>NaN</td>\n",
       "    </tr>\n",
       "    <tr>\n",
       "      <th>3</th>\n",
       "      <td>AGE00147712</td>\n",
       "      <td>1880-01-01</td>\n",
       "      <td>PRCP</td>\n",
       "      <td>0</td>\n",
       "      <td>NaN</td>\n",
       "      <td>NaN</td>\n",
       "      <td>E</td>\n",
       "      <td>NaN</td>\n",
       "    </tr>\n",
       "    <tr>\n",
       "      <th>4</th>\n",
       "      <td>AGE00147713</td>\n",
       "      <td>1880-01-01</td>\n",
       "      <td>TMAX</td>\n",
       "      <td>52</td>\n",
       "      <td>NaN</td>\n",
       "      <td>NaN</td>\n",
       "      <td>E</td>\n",
       "      <td>NaN</td>\n",
       "    </tr>\n",
       "    <tr>\n",
       "      <th>...</th>\n",
       "      <td>...</td>\n",
       "      <td>...</td>\n",
       "      <td>...</td>\n",
       "      <td>...</td>\n",
       "      <td>...</td>\n",
       "      <td>...</td>\n",
       "      <td>...</td>\n",
       "      <td>...</td>\n",
       "    </tr>\n",
       "    <tr>\n",
       "      <th>370774</th>\n",
       "      <td>USW00093852</td>\n",
       "      <td>1880-12-31</td>\n",
       "      <td>TMAX</td>\n",
       "      <td>39</td>\n",
       "      <td>NaN</td>\n",
       "      <td>NaN</td>\n",
       "      <td>X</td>\n",
       "      <td>NaN</td>\n",
       "    </tr>\n",
       "    <tr>\n",
       "      <th>370775</th>\n",
       "      <td>USW00093852</td>\n",
       "      <td>1880-12-31</td>\n",
       "      <td>TMIN</td>\n",
       "      <td>-17</td>\n",
       "      <td>NaN</td>\n",
       "      <td>NaN</td>\n",
       "      <td>X</td>\n",
       "      <td>NaN</td>\n",
       "    </tr>\n",
       "    <tr>\n",
       "      <th>370776</th>\n",
       "      <td>USW00094728</td>\n",
       "      <td>1880-12-31</td>\n",
       "      <td>TMAX</td>\n",
       "      <td>-122</td>\n",
       "      <td>NaN</td>\n",
       "      <td>NaN</td>\n",
       "      <td>0</td>\n",
       "      <td>NaN</td>\n",
       "    </tr>\n",
       "    <tr>\n",
       "      <th>370777</th>\n",
       "      <td>USW00094728</td>\n",
       "      <td>1880-12-31</td>\n",
       "      <td>TMIN</td>\n",
       "      <td>-194</td>\n",
       "      <td>NaN</td>\n",
       "      <td>NaN</td>\n",
       "      <td>0</td>\n",
       "      <td>NaN</td>\n",
       "    </tr>\n",
       "    <tr>\n",
       "      <th>370778</th>\n",
       "      <td>USW00094728</td>\n",
       "      <td>1880-12-31</td>\n",
       "      <td>PRCP</td>\n",
       "      <td>0</td>\n",
       "      <td>NaN</td>\n",
       "      <td>NaN</td>\n",
       "      <td>0</td>\n",
       "      <td>NaN</td>\n",
       "    </tr>\n",
       "  </tbody>\n",
       "</table>\n",
       "<p>370779 rows × 8 columns</p>\n",
       "</div>"
      ],
      "text/plain": [
       "                 id       date element_code  value mflag qflag sflag  obstime\n",
       "0       AGE00147705 1880-01-01         PRCP      0   NaN   NaN     E      NaN\n",
       "1       AGE00147708 1880-01-01         PRCP     36   NaN   NaN     E      NaN\n",
       "2       AGE00147709 1880-01-01         PRCP     36   NaN   NaN     E      NaN\n",
       "3       AGE00147712 1880-01-01         PRCP      0   NaN   NaN     E      NaN\n",
       "4       AGE00147713 1880-01-01         TMAX     52   NaN   NaN     E      NaN\n",
       "...             ...        ...          ...    ...   ...   ...   ...      ...\n",
       "370774  USW00093852 1880-12-31         TMAX     39   NaN   NaN     X      NaN\n",
       "370775  USW00093852 1880-12-31         TMIN    -17   NaN   NaN     X      NaN\n",
       "370776  USW00094728 1880-12-31         TMAX   -122   NaN   NaN     0      NaN\n",
       "370777  USW00094728 1880-12-31         TMIN   -194   NaN   NaN     0      NaN\n",
       "370778  USW00094728 1880-12-31         PRCP      0   NaN   NaN     0      NaN\n",
       "\n",
       "[370779 rows x 8 columns]"
      ]
     },
     "execution_count": 48,
     "metadata": {},
     "output_type": "execute_result"
    }
   ],
   "source": [
    "get_noaa_data(1880)"
   ]
  },
  {
   "cell_type": "code",
   "execution_count": 50,
   "id": "58a73038-0eec-4072-b632-0f0b39b151e4",
   "metadata": {},
   "outputs": [
    {
     "data": {
      "text/plain": [
       "370779"
      ]
     },
     "execution_count": 50,
     "metadata": {},
     "output_type": "execute_result"
    }
   ],
   "source": [
    "get_noaa_data(1880).shape[0]"
   ]
  },
  {
   "cell_type": "code",
   "execution_count": 51,
   "id": "ecb2d85c-518b-4a25-bbf5-55fae35d6542",
   "metadata": {},
   "outputs": [],
   "source": [
    "newDF = get_noaa_data(1880)"
   ]
  },
  {
   "cell_type": "code",
   "execution_count": 53,
   "id": "8e446953-a367-4029-ae5f-af011fb12217",
   "metadata": {},
   "outputs": [
    {
     "data": {
      "text/plain": [
       "(48428, 8)"
      ]
     },
     "execution_count": 53,
     "metadata": {},
     "output_type": "execute_result"
    }
   ],
   "source": [
    "newDF[newDF['id'].str.startswith('US')].shape"
   ]
  },
  {
   "cell_type": "code",
   "execution_count": 54,
   "id": "18744caa-2412-41da-a117-cf45af1b8378",
   "metadata": {},
   "outputs": [],
   "source": [
    "newDF = get_noaa_data(1881)"
   ]
  },
  {
   "cell_type": "code",
   "execution_count": 55,
   "id": "7cb10788-76ac-440e-b6a6-6675ea312857",
   "metadata": {},
   "outputs": [
    {
     "data": {
      "text/plain": [
       "(48196, 8)"
      ]
     },
     "execution_count": 55,
     "metadata": {},
     "output_type": "execute_result"
    }
   ],
   "source": [
    "newDF[newDF['id'].str.startswith('US')].shape"
   ]
  },
  {
   "cell_type": "code",
   "execution_count": 56,
   "id": "d7ad6de9-f008-4d4b-ac99-9f30afb2c5c8",
   "metadata": {},
   "outputs": [],
   "source": [
    "newDF = get_noaa_data(1882)"
   ]
  },
  {
   "cell_type": "code",
   "execution_count": 57,
   "id": "cdf0d1ed-b5f8-4402-8d1d-df84beea7882",
   "metadata": {},
   "outputs": [
    {
     "data": {
      "text/plain": [
       "(50664, 8)"
      ]
     },
     "execution_count": 57,
     "metadata": {},
     "output_type": "execute_result"
    }
   ],
   "source": [
    "newDF[newDF['id'].str.startswith('US')].shape"
   ]
  },
  {
   "cell_type": "code",
   "execution_count": 58,
   "id": "dd58ec22-2a85-4f8b-9f99-edf6f561a0d7",
   "metadata": {},
   "outputs": [],
   "source": [
    "newDF = get_noaa_data(1883)"
   ]
  },
  {
   "cell_type": "code",
   "execution_count": 59,
   "id": "2bb93201-6de6-4876-a416-f08f226038c3",
   "metadata": {},
   "outputs": [
    {
     "data": {
      "text/plain": [
       "(52363, 8)"
      ]
     },
     "execution_count": 59,
     "metadata": {},
     "output_type": "execute_result"
    }
   ],
   "source": [
    "newDF[newDF['id'].str.startswith('US')].shape"
   ]
  },
  {
   "cell_type": "code",
   "execution_count": 165,
   "id": "d8a84759-f6b6-4c85-8831-90f7373229db",
   "metadata": {},
   "outputs": [],
   "source": [
    "mydict = {}\n",
    "mylist = list(range(1880, 1884))\n",
    "for myyear in mylist:\n",
    "    newDF = get_noaa_data(myyear)\n",
    "    mydict.update({myyear: newDF[newDF['id'].str.startswith('US')].shape[0]})"
   ]
  },
  {
   "cell_type": "code",
   "execution_count": 166,
   "id": "1ddb31e9-691d-442a-9ae0-cde4f1371627",
   "metadata": {},
   "outputs": [
    {
     "data": {
      "text/plain": [
       "{1880: 48428, 1881: 48196, 1882: 50664, 1883: 52363}"
      ]
     },
     "execution_count": 166,
     "metadata": {},
     "output_type": "execute_result"
    }
   ],
   "source": [
    "mydict"
   ]
  },
  {
   "cell_type": "code",
   "execution_count": 162,
   "id": "33e13245-f5e2-4f65-ab9e-c6bb3ef8f334",
   "metadata": {},
   "outputs": [],
   "source": [
    "def get_dict_us_sizes (mylist: int) -> dict:\n",
    "    \"\"\"\n",
    "    This function accepts a list of 4-digit years as input, and returns a dictionary that contains the NOAA data for each of the years.\n",
    "\n",
    "    Args:\n",
    "    mylist (int): This is a list of 4-digit years for which we will load a dictionary to be returned.\n",
    "\n",
    "    Returns:\n",
    "    mydict (dict): This is the dictionary that contains the NOAA data for each of the years provided\n",
    "    \"\"\"\n",
    "    mydict = {}\n",
    "    for myyear in mylist:\n",
    "        newDF = get_noaa_data(myyear)\n",
    "        mydict.update({myyear: newDF[newDF['id'].str.startswith('US')].shape[0]})\n",
    "    return mydict"
   ]
  },
  {
   "cell_type": "code",
   "execution_count": 163,
   "id": "0ff071ab-132d-4b7f-b6b9-524d9a0f7fd0",
   "metadata": {},
   "outputs": [
    {
     "data": {
      "text/plain": [
       "{1880: 48428, 1881: 48196, 1882: 50664, 1883: 52363}"
      ]
     },
     "execution_count": 163,
     "metadata": {},
     "output_type": "execute_result"
    }
   ],
   "source": [
    "get_dict_us_sizes(list(range(1880, 1884)))"
   ]
  },
  {
   "cell_type": "markdown",
   "id": "b456e57c-4a12-464b-999a-ef2df5af80c1",
   "metadata": {},
   "source": [
    "Markdown notes and sentences and analysis written here."
   ]
  },
  {
   "cell_type": "markdown",
   "id": "fc601975-35ed-4680-a4e1-0273ee3cc047",
   "metadata": {},
   "source": [
    "## Question 2"
   ]
  },
  {
   "cell_type": "code",
   "execution_count": 167,
   "id": "a16336a1-1ef0-41e8-bc7c-49387db27497",
   "metadata": {},
   "outputs": [
    {
     "data": {
      "text/plain": [
       "{1880: 48428, 1881: 48196, 1882: 50664, 1883: 52363}"
      ]
     },
     "execution_count": 167,
     "metadata": {},
     "output_type": "execute_result"
    }
   ],
   "source": [
    "mydict"
   ]
  },
  {
   "cell_type": "code",
   "execution_count": 161,
   "id": "0f4ca8f7-2c6d-4c3c-90af-cd3060d66520",
   "metadata": {},
   "outputs": [],
   "source": [
    "mydescendingdict = dict([key, mydict[key]] for key in sorted(mydict, key=mydict.get, reverse=True))"
   ]
  },
  {
   "cell_type": "code",
   "execution_count": 78,
   "id": "e5e4329b-e041-4e9a-b881-6e129d76e4b1",
   "metadata": {},
   "outputs": [
    {
     "data": {
      "text/plain": [
       "{1883: 52363, 1882: 50664, 1880: 48428, 1881: 48196}"
      ]
     },
     "execution_count": 78,
     "metadata": {},
     "output_type": "execute_result"
    }
   ],
   "source": [
    "mydescendingdict"
   ]
  },
  {
   "cell_type": "code",
   "execution_count": 156,
   "id": "128df468-1fd4-401b-995b-b4b0f0ef1123",
   "metadata": {},
   "outputs": [],
   "source": [
    "def get_dict_us_sizes_reverse (mylist: int) -> dict:\n",
    "    \"\"\"\n",
    "    This function accepts a list of 4-digit years as input, and returns a dictionary in reverse order that contains the NOAA data for USA for each of the years.\n",
    "\n",
    "    Args:\n",
    "    mylist (int): This is a list of 4-digit years for which we will load a dictionary to be returned.\n",
    "\n",
    "    Returns:\n",
    "    mydescendingdict (dict): This is the dictionary that contains the NOAA data for USA for each of the years provided in reverse order.\n",
    "    \"\"\"\n",
    "    mydict = {}\n",
    "    for myyear in mylist:\n",
    "        newDF = get_noaa_data(myyear)\n",
    "        mydict.update({myyear: newDF[newDF['id'].str.startswith('US')].shape[0]})\n",
    "    mydescendingdict = dict([key, mydict[key]] for key in sorted(mydict, key=mydict.get, reverse=True))\n",
    "    return mydescendingdict"
   ]
  },
  {
   "cell_type": "code",
   "execution_count": 157,
   "id": "3fa8421a-1cab-48b9-a579-0060216aaab4",
   "metadata": {},
   "outputs": [
    {
     "data": {
      "text/plain": [
       "{1883: 52363, 1882: 50664, 1880: 48428, 1881: 48196}"
      ]
     },
     "execution_count": 157,
     "metadata": {},
     "output_type": "execute_result"
    }
   ],
   "source": [
    "get_dict_us_sizes_reverse(list(range(1880, 1884)))"
   ]
  },
  {
   "cell_type": "markdown",
   "id": "14dc22d4-ddc3-41cc-a91a-cb0025bc0c80",
   "metadata": {},
   "source": [
    "Markdown notes and sentences and analysis written here."
   ]
  },
  {
   "cell_type": "markdown",
   "id": "8e586edd-ff26-4ce2-8f6b-2424b26f2929",
   "metadata": {},
   "source": [
    "## Question 3"
   ]
  },
  {
   "cell_type": "code",
   "execution_count": 97,
   "id": "bbe0f40d-9655-4653-9ca8-886bdb61cb91",
   "metadata": {},
   "outputs": [],
   "source": [
    "newDF = get_noaa_data(1880)"
   ]
  },
  {
   "cell_type": "code",
   "execution_count": 98,
   "id": "c94f864d-1798-4f06-b611-e8822b0cbaf5",
   "metadata": {},
   "outputs": [
    {
     "data": {
      "text/plain": [
       "(203, 8)"
      ]
     },
     "execution_count": 98,
     "metadata": {},
     "output_type": "execute_result"
    }
   ],
   "source": [
    "newDF[ (newDF['id'].str.startswith('US')) & (newDF['element_code'] == \"SNOW\") & (newDF['value'] > 0) ].shape"
   ]
  },
  {
   "cell_type": "code",
   "execution_count": 99,
   "id": "007c1464-29e7-4582-9b7d-c3bb64f9f7e5",
   "metadata": {},
   "outputs": [],
   "source": [
    "newDF = get_noaa_data(1881)"
   ]
  },
  {
   "cell_type": "code",
   "execution_count": 100,
   "id": "21ab88d8-c819-4c01-b071-c0941017482c",
   "metadata": {},
   "outputs": [
    {
     "data": {
      "text/plain": [
       "(266, 8)"
      ]
     },
     "execution_count": 100,
     "metadata": {},
     "output_type": "execute_result"
    }
   ],
   "source": [
    "newDF[ (newDF['id'].str.startswith('US')) & (newDF['element_code'] == \"SNOW\") & (newDF['value'] > 0) ].shape"
   ]
  },
  {
   "cell_type": "code",
   "execution_count": 101,
   "id": "e7a44184-5e7c-454d-86c6-b2b35eeaa974",
   "metadata": {},
   "outputs": [],
   "source": [
    "newDF = get_noaa_data(1882)"
   ]
  },
  {
   "cell_type": "code",
   "execution_count": 102,
   "id": "987bc2be-bad2-401e-9105-bbacad500bb8",
   "metadata": {},
   "outputs": [
    {
     "data": {
      "text/plain": [
       "(253, 8)"
      ]
     },
     "execution_count": 102,
     "metadata": {},
     "output_type": "execute_result"
    }
   ],
   "source": [
    "newDF[ (newDF['id'].str.startswith('US')) & (newDF['element_code'] == \"SNOW\") & (newDF['value'] > 0) ].shape"
   ]
  },
  {
   "cell_type": "code",
   "execution_count": 103,
   "id": "05f51e3c-bcb3-4efc-ba73-750fa121a445",
   "metadata": {},
   "outputs": [],
   "source": [
    "newDF = get_noaa_data(1883)"
   ]
  },
  {
   "cell_type": "code",
   "execution_count": 104,
   "id": "22dba05e-80a9-429f-af5b-74fc018368b8",
   "metadata": {},
   "outputs": [
    {
     "data": {
      "text/plain": [
       "(187, 8)"
      ]
     },
     "execution_count": 104,
     "metadata": {},
     "output_type": "execute_result"
    }
   ],
   "source": [
    "newDF[ (newDF['id'].str.startswith('US')) & (newDF['element_code'] == \"SNOW\") & (newDF['value'] > 0) ].shape"
   ]
  },
  {
   "cell_type": "code",
   "execution_count": 93,
   "id": "757e0879-0db7-40a8-81aa-0e1c48057138",
   "metadata": {},
   "outputs": [],
   "source": [
    "mydict = {}\n",
    "mylist = list(range(1880, 1884))\n",
    "for myyear in mylist:\n",
    "    newDF = get_noaa_data(myyear)\n",
    "    mydict.update({myyear: newDF[ (newDF['id'].str.startswith('US')) & (newDF['element_code'] == \"SNOW\") & (newDF['value'] > 0) ].shape[0]})"
   ]
  },
  {
   "cell_type": "code",
   "execution_count": 94,
   "id": "325044d9-0d35-4b31-84c3-c611620ad3c3",
   "metadata": {},
   "outputs": [
    {
     "data": {
      "text/plain": [
       "{1880: 203, 1881: 266, 1882: 253, 1883: 187}"
      ]
     },
     "execution_count": 94,
     "metadata": {},
     "output_type": "execute_result"
    }
   ],
   "source": [
    "mydict"
   ]
  },
  {
   "cell_type": "code",
   "execution_count": 154,
   "id": "d4d34b2a-b503-484b-bc53-58cbf5a78192",
   "metadata": {},
   "outputs": [],
   "source": [
    "def get_dict_us_sizes_snow_days (mylist: int) -> dict:\n",
    "    \"\"\"\n",
    "    This function accepts a list of 4-digit years as input, and returns a dictionary that contains the NOAA data for USA for each of the years with positive snowfall.\n",
    "\n",
    "    Args:\n",
    "    mylist (int): This is a list of 4-digit years for which we will load a dictionary to be returned.\n",
    "\n",
    "    Returns:\n",
    "    mydict (dict): This is the dictionary that contains the NOAA data for USA for each of the years provided with positive snowfall.\n",
    "    \"\"\"\n",
    "    mydict = {}\n",
    "    for myyear in mylist:\n",
    "        newDF = get_noaa_data(myyear)\n",
    "        mydict.update({myyear: newDF[ (newDF['id'].str.startswith('US')) & (newDF['element_code'] == \"SNOW\") & (newDF['value'] > 0) ].shape[0]})\n",
    "    return mydict"
   ]
  },
  {
   "cell_type": "code",
   "execution_count": 155,
   "id": "43faffed-0116-41cf-9e70-a781f807afc5",
   "metadata": {},
   "outputs": [
    {
     "data": {
      "text/plain": [
       "{1880: 203, 1881: 266, 1882: 253, 1883: 187}"
      ]
     },
     "execution_count": 155,
     "metadata": {},
     "output_type": "execute_result"
    }
   ],
   "source": [
    "get_dict_us_sizes_snow_days(list(range(1880,1884)))"
   ]
  },
  {
   "cell_type": "markdown",
   "id": "47c6229f-35f7-400c-8366-c442baa5cf47",
   "metadata": {},
   "source": [
    "Markdown notes and sentences and analysis written here."
   ]
  },
  {
   "cell_type": "markdown",
   "id": "da22f29c-d245-4d2b-9fc1-ca14cb6087d9",
   "metadata": {},
   "source": [
    "## Question 4"
   ]
  },
  {
   "cell_type": "code",
   "execution_count": 109,
   "id": "8cffc767-d1c8-4d64-b7dc-f0d2ee8a80d1",
   "metadata": {},
   "outputs": [],
   "source": [
    "newDF = get_noaa_data(1880)"
   ]
  },
  {
   "cell_type": "code",
   "execution_count": 110,
   "id": "f7dc8dce-78d9-448f-aff2-0f6f6160ca0a",
   "metadata": {},
   "outputs": [],
   "source": [
    "snowyDF = newDF[ (newDF['id'].str.startswith('US')) & (newDF['element_code'] == \"SNOW\") & (newDF['value'] > 0) ]"
   ]
  },
  {
   "cell_type": "code",
   "execution_count": 111,
   "id": "ca99669e-3a6f-45d1-8cb1-ec5719c08a5e",
   "metadata": {},
   "outputs": [
    {
     "data": {
      "text/plain": [
       "(203, 8)"
      ]
     },
     "execution_count": 111,
     "metadata": {},
     "output_type": "execute_result"
    }
   ],
   "source": [
    "snowyDF.shape"
   ]
  },
  {
   "cell_type": "code",
   "execution_count": 113,
   "id": "9047c61a-8c32-4a0e-b51c-61f81e8fb331",
   "metadata": {},
   "outputs": [
    {
     "data": {
      "text/plain": [
       "id\n",
       "USC00015555     1\n",
       "USC00034251     4\n",
       "USC00034988     5\n",
       "USC00064767    15\n",
       "USC00134049    15\n",
       "USC00144559     6\n",
       "USC00271682    17\n",
       "USC00288878     9\n",
       "USC00313228     3\n",
       "USC00313638     3\n",
       "USC00314938     3\n",
       "USC00316001     1\n",
       "USC00316103     1\n",
       "USC00317727     5\n",
       "USC00319191     1\n",
       "USC00319462     1\n",
       "USC00447004     8\n",
       "USC00463100    13\n",
       "USC00464045    23\n",
       "USC00469368    17\n",
       "USW00013872     1\n",
       "USW00024128    35\n",
       "USW00053875     3\n",
       "USW00094728    13\n",
       "dtype: int64"
      ]
     },
     "execution_count": 113,
     "metadata": {},
     "output_type": "execute_result"
    }
   ],
   "source": [
    "snowyDF.groupby('id').size()"
   ]
  },
  {
   "cell_type": "code",
   "execution_count": 114,
   "id": "3f1c6e20-bf07-4b98-91fc-2345526e9943",
   "metadata": {},
   "outputs": [
    {
     "data": {
      "text/plain": [
       "'USW00024128'"
      ]
     },
     "execution_count": 114,
     "metadata": {},
     "output_type": "execute_result"
    }
   ],
   "source": [
    "snowyDF.groupby('id').size().idxmax()"
   ]
  },
  {
   "cell_type": "code",
   "execution_count": 115,
   "id": "ebb78cd4-ac5e-4605-81ba-f2983095a16f",
   "metadata": {},
   "outputs": [
    {
     "data": {
      "text/plain": [
       "35"
      ]
     },
     "execution_count": 115,
     "metadata": {},
     "output_type": "execute_result"
    }
   ],
   "source": [
    "snowyDF.groupby('id').size().max()"
   ]
  },
  {
   "cell_type": "code",
   "execution_count": 116,
   "id": "197eebf6-d3cd-4a53-ab51-d42d1916f283",
   "metadata": {},
   "outputs": [],
   "source": [
    "newDF = get_noaa_data(1881)"
   ]
  },
  {
   "cell_type": "code",
   "execution_count": 117,
   "id": "ab410ee7-41b7-4217-abcb-127b17f7ca77",
   "metadata": {},
   "outputs": [],
   "source": [
    "snowyDF = newDF[ (newDF['id'].str.startswith('US')) & (newDF['element_code'] == \"SNOW\") & (newDF['value'] > 0) ]"
   ]
  },
  {
   "cell_type": "code",
   "execution_count": 118,
   "id": "a3fc85db-0f06-4dba-bd16-057ce572fd4e",
   "metadata": {},
   "outputs": [
    {
     "data": {
      "text/plain": [
       "id\n",
       "USC00015555     2\n",
       "USC00034251     3\n",
       "USC00034988     3\n",
       "USC00064767    20\n",
       "USC00134049    28\n",
       "USC00144559     8\n",
       "USC00271682    24\n",
       "USC00288878     6\n",
       "USC00313228     2\n",
       "USC00313638     3\n",
       "USC00316001     4\n",
       "USC00317727     1\n",
       "USC00319191     1\n",
       "USC00319462     1\n",
       "USC00447004     5\n",
       "USC00463100    20\n",
       "USC00464045    33\n",
       "USC00469368    13\n",
       "USC00475484    24\n",
       "USW00014971    19\n",
       "USW00024128    21\n",
       "USW00053875    10\n",
       "USW00094728    15\n",
       "dtype: int64"
      ]
     },
     "execution_count": 118,
     "metadata": {},
     "output_type": "execute_result"
    }
   ],
   "source": [
    "snowyDF.groupby('id').size()"
   ]
  },
  {
   "cell_type": "code",
   "execution_count": 119,
   "id": "668c62ec-5b63-442a-9777-8060208e70c7",
   "metadata": {},
   "outputs": [
    {
     "data": {
      "text/plain": [
       "'USC00464045'"
      ]
     },
     "execution_count": 119,
     "metadata": {},
     "output_type": "execute_result"
    }
   ],
   "source": [
    "snowyDF.groupby('id').size().idxmax()"
   ]
  },
  {
   "cell_type": "code",
   "execution_count": 120,
   "id": "650d3096-7210-4682-982e-e4a9c0b86236",
   "metadata": {},
   "outputs": [],
   "source": [
    "newDF = get_noaa_data(1882)"
   ]
  },
  {
   "cell_type": "code",
   "execution_count": 121,
   "id": "ff67de6f-2556-4b16-98ca-2c53573412d1",
   "metadata": {},
   "outputs": [],
   "source": [
    "snowyDF = newDF[ (newDF['id'].str.startswith('US')) & (newDF['element_code'] == \"SNOW\") & (newDF['value'] > 0) ]"
   ]
  },
  {
   "cell_type": "code",
   "execution_count": 122,
   "id": "7067bdf0-8b32-4fc4-876f-441928c1ee43",
   "metadata": {},
   "outputs": [
    {
     "data": {
      "text/plain": [
       "id\n",
       "USC00034251     3\n",
       "USC00034988     4\n",
       "USC00064767    25\n",
       "USC00134049     5\n",
       "USC00176902    49\n",
       "USC00254812     8\n",
       "USC00264939     2\n",
       "USC00271682    38\n",
       "USC00313228     4\n",
       "USC00316001     3\n",
       "USC00317727     3\n",
       "USC00319191     6\n",
       "USC00447004     6\n",
       "USC00463100     7\n",
       "USC00464045    25\n",
       "USC00469368     5\n",
       "USP00CA0002     1\n",
       "USW00014971     9\n",
       "USW00024128    29\n",
       "USW00053875     5\n",
       "USW00094728    16\n",
       "dtype: int64"
      ]
     },
     "execution_count": 122,
     "metadata": {},
     "output_type": "execute_result"
    }
   ],
   "source": [
    "snowyDF.groupby('id').size()"
   ]
  },
  {
   "cell_type": "code",
   "execution_count": 123,
   "id": "3ff4bd2c-6aee-4954-917a-f424efd3d4b1",
   "metadata": {},
   "outputs": [
    {
     "data": {
      "text/plain": [
       "'USC00176902'"
      ]
     },
     "execution_count": 123,
     "metadata": {},
     "output_type": "execute_result"
    }
   ],
   "source": [
    "snowyDF.groupby('id').size().idxmax()"
   ]
  },
  {
   "cell_type": "code",
   "execution_count": 124,
   "id": "6f64856f-8d1a-4e67-b29c-6015abcc742e",
   "metadata": {},
   "outputs": [],
   "source": [
    "newDF = get_noaa_data(1883)"
   ]
  },
  {
   "cell_type": "code",
   "execution_count": 125,
   "id": "605ef05f-8156-4758-b9c8-63f8f612eea0",
   "metadata": {},
   "outputs": [],
   "source": [
    "snowyDF = newDF[ (newDF['id'].str.startswith('US')) & (newDF['element_code'] == \"SNOW\") & (newDF['value'] > 0) ]"
   ]
  },
  {
   "cell_type": "code",
   "execution_count": 126,
   "id": "b5a670f0-6189-49a9-843a-37d75f31aecd",
   "metadata": {},
   "outputs": [
    {
     "data": {
      "text/plain": [
       "id\n",
       "USC00015555     1\n",
       "USC00034251     1\n",
       "USC00034988     3\n",
       "USC00064767     7\n",
       "USC00134049    13\n",
       "USC00176902    43\n",
       "USC00271682    27\n",
       "USC00316001     1\n",
       "USC00319191     3\n",
       "USC00319462     1\n",
       "USC00406012     1\n",
       "USC00408108     1\n",
       "USC00440755     1\n",
       "USC00447004     2\n",
       "USC00464045    28\n",
       "USC00469368     8\n",
       "USW00014971     5\n",
       "USW00023068     5\n",
       "USW00024128    10\n",
       "USW00053875     4\n",
       "USW00094728    22\n",
       "dtype: int64"
      ]
     },
     "execution_count": 126,
     "metadata": {},
     "output_type": "execute_result"
    }
   ],
   "source": [
    "snowyDF.groupby('id').size()"
   ]
  },
  {
   "cell_type": "code",
   "execution_count": 127,
   "id": "54b136f4-0e45-453d-b7e0-55837ff453e0",
   "metadata": {},
   "outputs": [
    {
     "data": {
      "text/plain": [
       "'USC00176902'"
      ]
     },
     "execution_count": 127,
     "metadata": {},
     "output_type": "execute_result"
    }
   ],
   "source": [
    "snowyDF.groupby('id').size().idxmax()"
   ]
  },
  {
   "cell_type": "code",
   "execution_count": 128,
   "id": "b9b28f6d-72a4-4b83-af59-7548d02d20e8",
   "metadata": {},
   "outputs": [],
   "source": [
    "mydict = {}\n",
    "mylist = list(range(1880, 1884))\n",
    "for myyear in mylist:\n",
    "    newDF = get_noaa_data(myyear)\n",
    "    snowyDF = newDF[ (newDF['id'].str.startswith('US')) & (newDF['element_code'] == \"SNOW\") & (newDF['value'] > 0) ]\n",
    "    mydict.update({myyear: snowyDF.groupby('id').size().idxmax()})"
   ]
  },
  {
   "cell_type": "code",
   "execution_count": 129,
   "id": "03acdad6-d92c-4216-90e7-735b6ec85c6b",
   "metadata": {},
   "outputs": [
    {
     "data": {
      "text/plain": [
       "{1880: 'USW00024128',\n",
       " 1881: 'USC00464045',\n",
       " 1882: 'USC00176902',\n",
       " 1883: 'USC00176902'}"
      ]
     },
     "execution_count": 129,
     "metadata": {},
     "output_type": "execute_result"
    }
   ],
   "source": [
    "mydict"
   ]
  },
  {
   "cell_type": "code",
   "execution_count": 152,
   "id": "86a4d884-fe6c-4e75-b18d-30c7ca7722c6",
   "metadata": {},
   "outputs": [],
   "source": [
    "def get_dict_us_sizes_largest_snowfall (mylist: int) -> dict:\n",
    "    \"\"\"\n",
    "    This function accepts a list of 4-digit years as input, and returns a dictionary that contains the NOAA data for USA for each year's largest positive snowfall.\n",
    "\n",
    "    Args:\n",
    "    mylist (int): This is a list of 4-digit years for which we will load a dictionary to be returned.\n",
    "\n",
    "    Returns:\n",
    "    mydict (dict): This is the dictionary that contains the NOAA data for USA for each year's largest positive snowfall.\n",
    "    \"\"\"\n",
    "    mydict = {}\n",
    "    for myyear in mylist:\n",
    "        newDF = get_noaa_data(myyear)\n",
    "        snowyDF = newDF[ (newDF['id'].str.startswith('US')) & (newDF['element_code'] == \"SNOW\") & (newDF['value'] > 0) ]\n",
    "        mydict.update({myyear: snowyDF.groupby('id').size().idxmax()})\n",
    "    return mydict"
   ]
  },
  {
   "cell_type": "code",
   "execution_count": 153,
   "id": "a656ab1b-9b90-4620-a2e0-d1d72bfb28ef",
   "metadata": {},
   "outputs": [
    {
     "data": {
      "text/plain": [
       "{1880: 'USW00024128',\n",
       " 1881: 'USC00464045',\n",
       " 1882: 'USC00176902',\n",
       " 1883: 'USC00176902'}"
      ]
     },
     "execution_count": 153,
     "metadata": {},
     "output_type": "execute_result"
    }
   ],
   "source": [
    "get_dict_us_sizes_largest_snowfall(list(range(1880, 1884)))"
   ]
  },
  {
   "cell_type": "markdown",
   "id": "0d552245-b4d6-474a-9cc9-fa7b8e674d55",
   "metadata": {},
   "source": [
    "Markdown notes and sentences and analysis written here."
   ]
  },
  {
   "cell_type": "markdown",
   "id": "88c9cdac-3e92-498f-83fa-e089bfc44ac8",
   "metadata": {},
   "source": [
    "## Question 5"
   ]
  },
  {
   "cell_type": "code",
   "execution_count": 133,
   "id": "d370d7c9-06db-42b9-b75f-240481a5c491",
   "metadata": {},
   "outputs": [],
   "source": [
    "newDF = get_noaa_data(1880)"
   ]
  },
  {
   "cell_type": "code",
   "execution_count": 134,
   "id": "2bb9eab8-a6af-4f19-bf64-5ce16fea385a",
   "metadata": {},
   "outputs": [],
   "source": [
    "snowyDF = newDF[ (newDF['id'].str.startswith('US')) & (newDF['element_code'] == \"SNOW\") & (newDF['value'] > 0) ]"
   ]
  },
  {
   "cell_type": "code",
   "execution_count": 135,
   "id": "599ffad7-418b-4897-82d7-e5bd8b080f3d",
   "metadata": {},
   "outputs": [
    {
     "data": {
      "text/plain": [
       "'USC00464045'"
      ]
     },
     "execution_count": 135,
     "metadata": {},
     "output_type": "execute_result"
    }
   ],
   "source": [
    "snowyDF.groupby('id')['value'].sum().idxmax()"
   ]
  },
  {
   "cell_type": "code",
   "execution_count": 136,
   "id": "0c968743-d1ad-4bc0-b6bf-c0826c1899ab",
   "metadata": {},
   "outputs": [],
   "source": [
    "newDF = get_noaa_data(1881)"
   ]
  },
  {
   "cell_type": "code",
   "execution_count": 137,
   "id": "2f83a81d-4218-402e-83bf-26fe0bb9e266",
   "metadata": {},
   "outputs": [],
   "source": [
    "snowyDF = newDF[ (newDF['id'].str.startswith('US')) & (newDF['element_code'] == \"SNOW\") & (newDF['value'] > 0) ]"
   ]
  },
  {
   "cell_type": "code",
   "execution_count": 138,
   "id": "e6a398f7-f77d-4bf9-b399-b077629f6784",
   "metadata": {},
   "outputs": [
    {
     "data": {
      "text/plain": [
       "'USW00014971'"
      ]
     },
     "execution_count": 138,
     "metadata": {},
     "output_type": "execute_result"
    }
   ],
   "source": [
    "snowyDF.groupby('id')['value'].sum().idxmax()"
   ]
  },
  {
   "cell_type": "code",
   "execution_count": 139,
   "id": "2003251f-c6ae-493a-84d5-f1f78a1d11b4",
   "metadata": {},
   "outputs": [],
   "source": [
    "newDF = get_noaa_data(1882)"
   ]
  },
  {
   "cell_type": "code",
   "execution_count": 140,
   "id": "3f273246-2aac-4cbd-a379-a22836094862",
   "metadata": {},
   "outputs": [],
   "source": [
    "snowyDF = newDF[ (newDF['id'].str.startswith('US')) & (newDF['element_code'] == \"SNOW\") & (newDF['value'] > 0) ]"
   ]
  },
  {
   "cell_type": "code",
   "execution_count": 141,
   "id": "1486c1dd-ca5f-4074-8b33-583ba5fd57f1",
   "metadata": {},
   "outputs": [
    {
     "data": {
      "text/plain": [
       "'USC00176902'"
      ]
     },
     "execution_count": 141,
     "metadata": {},
     "output_type": "execute_result"
    }
   ],
   "source": [
    "snowyDF.groupby('id')['value'].sum().idxmax()"
   ]
  },
  {
   "cell_type": "code",
   "execution_count": 142,
   "id": "a2e92228-1234-4653-84b5-3adc5039dd4a",
   "metadata": {},
   "outputs": [],
   "source": [
    "newDF = get_noaa_data(1883)"
   ]
  },
  {
   "cell_type": "code",
   "execution_count": 143,
   "id": "fbe6c347-01f7-4f45-971e-018b60b78baa",
   "metadata": {},
   "outputs": [],
   "source": [
    "snowyDF = newDF[ (newDF['id'].str.startswith('US')) & (newDF['element_code'] == \"SNOW\") & (newDF['value'] > 0) ]"
   ]
  },
  {
   "cell_type": "code",
   "execution_count": 144,
   "id": "07a20269-6827-4669-b6b2-d10e8d3083f7",
   "metadata": {},
   "outputs": [
    {
     "data": {
      "text/plain": [
       "'USC00464045'"
      ]
     },
     "execution_count": 144,
     "metadata": {},
     "output_type": "execute_result"
    }
   ],
   "source": [
    "snowyDF.groupby('id')['value'].sum().idxmax()"
   ]
  },
  {
   "cell_type": "code",
   "execution_count": 168,
   "id": "010dc9d1-6bca-4d02-988c-66935b3455f9",
   "metadata": {},
   "outputs": [],
   "source": [
    "mydict = {}\n",
    "mylist = list(range(1880, 1884))\n",
    "for myyear in mylist:\n",
    "    newDF = get_noaa_data(myyear)\n",
    "    snowyDF = newDF[ (newDF['id'].str.startswith('US')) & (newDF['element_code'] == \"SNOW\") & (newDF['value'] > 0) ]\n",
    "    mydict.update({myyear: snowyDF.groupby('id')['value'].sum().idxmax()})"
   ]
  },
  {
   "cell_type": "code",
   "execution_count": 169,
   "id": "448e2370-bcd6-4055-a987-e4ad93764d51",
   "metadata": {},
   "outputs": [
    {
     "data": {
      "text/plain": [
       "{1880: 'USC00464045',\n",
       " 1881: 'USW00014971',\n",
       " 1882: 'USC00176902',\n",
       " 1883: 'USC00464045'}"
      ]
     },
     "execution_count": 169,
     "metadata": {},
     "output_type": "execute_result"
    }
   ],
   "source": [
    "mydict"
   ]
  },
  {
   "cell_type": "code",
   "execution_count": 150,
   "id": "7d8a2de2-f025-4f7b-bbd1-125f8ec81bc7",
   "metadata": {},
   "outputs": [],
   "source": [
    "def get_dict_us_sizes_largest_snowfall (mylist: int) -> dict:\n",
    "    \"\"\"\n",
    "    This function accepts a list of 4-digit years as input, and returns a dictionary that contains the NOAA data for USA based on\n",
    "    the sum of the values of largest snowfall for each of the years and the id that achieves the highest.\n",
    "\n",
    "    Args:\n",
    "    mylist (int): This is a list of 4-digit years for which we will load a dictionary to be returned.\n",
    "\n",
    "    Returns:\n",
    "    mydict (dict): This is the dictionary that contains the NOAA data for USA based on\n",
    "    the sum of the values of largest snowfall for each of the years and the id that achieves the highest.\n",
    "    \"\"\"\n",
    "    mydict = {}\n",
    "    for myyear in mylist:\n",
    "        newDF = get_noaa_data(myyear)\n",
    "        snowyDF = newDF[ (newDF['id'].str.startswith('US')) & (newDF['element_code'] == \"SNOW\") & (newDF['value'] > 0) ]\n",
    "        mydict.update({myyear: snowyDF.groupby('id')['value'].sum().idxmax()})\n",
    "    return mydict"
   ]
  },
  {
   "cell_type": "code",
   "execution_count": 151,
   "id": "b5885ca0-f53f-4f8b-aab0-5f6ef7c2dd25",
   "metadata": {},
   "outputs": [
    {
     "data": {
      "text/plain": [
       "{1880: 'USC00464045',\n",
       " 1881: 'USW00014971',\n",
       " 1882: 'USC00176902',\n",
       " 1883: 'USC00464045'}"
      ]
     },
     "execution_count": 151,
     "metadata": {},
     "output_type": "execute_result"
    }
   ],
   "source": [
    "get_dict_us_sizes_largest_snowfall(list(range(1880, 1884)))"
   ]
  },
  {
   "cell_type": "markdown",
   "id": "9fbf00fb-2418-460f-ae94-2a32b0c28952",
   "metadata": {},
   "source": [
    "Markdown notes and sentences and analysis written here."
   ]
  },
  {
   "cell_type": "markdown",
   "id": "f76442d6-d02e-4f26-b9d6-c3183e1d6929",
   "metadata": {},
   "source": [
    "## Pledge\n",
    "\n",
    "By submitting this work I hereby pledge that this is my own, personal work. I've acknowledged in the designated place at the top of this file all sources that I used to complete said work, including but not limited to: online resources, books, and electronic communications. I've noted all collaboration with fellow students and/or TA's. I did not copy or plagiarize another's work.\n",
    "\n",
    "> As a Boilermaker pursuing academic excellence, I pledge to be honest and true in all that I do. Accountable together – We are Purdue."
   ]
  }
 ],
 "metadata": {
  "kernelspec": {
   "display_name": "seminar",
   "language": "python",
   "name": "seminar"
  },
  "language_info": {
   "codemirror_mode": {
    "name": "ipython",
    "version": 3
   },
   "file_extension": ".py",
   "mimetype": "text/x-python",
   "name": "python",
   "nbconvert_exporter": "python",
   "pygments_lexer": "ipython3",
   "version": "3.11.5"
  }
 },
 "nbformat": 4,
 "nbformat_minor": 5
}
